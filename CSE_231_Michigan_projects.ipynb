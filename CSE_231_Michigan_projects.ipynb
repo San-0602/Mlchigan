{
  "nbformat": 4,
  "nbformat_minor": 0,
  "metadata": {
    "colab": {
      "provenance": []
    },
    "kernelspec": {
      "name": "python3",
      "display_name": "Python 3"
    },
    "language_info": {
      "name": "python"
    }
  },
  "cells": [
    {
      "cell_type": "code",
      "execution_count": null,
      "metadata": {
        "colab": {
          "base_uri": "https://localhost:8080/"
        },
        "id": "oCZ2_sVou7hU",
        "outputId": "75d22fa3-9bde-4957-aa72-00a720fc1105"
      },
      "outputs": [
        {
          "output_type": "stream",
          "name": "stdout",
          "text": [
            "Please enter an integer: 1234\n",
            "Please enter a floating point number: 1.25\n",
            "The numbers are:  1234  and  1.25\n",
            "Their sum is:  1235.25 Their product is: 1542.5\n"
          ]
        }
      ],
      "source": [
        "# first program in python\n",
        "# input two numbers, add them together, print them out\n",
        "\n",
        "\n",
        "num_str1 = input('Please enter an integer: ')\n",
        "num_str2 = input('Please enter a floating point number: ')\n",
        "\n",
        "int1 = int(num_str1)\n",
        "float1 = float(num_str2)\n",
        "\n",
        "print('The numbers are: ',int1,' and ',float1)\n",
        "print('Their sum is: ',int1+float1, 'Their product is:',int1*float1)"
      ]
    },
    {
      "cell_type": "code",
      "source": [
        "# an example for input and int conversion\n",
        "\n",
        "\n",
        "num1String = input('Please enter an integer: ')\n",
        "num2String = input('Please enter a second integer: ')\n",
        "\n",
        "num1 = int(num1String)\n",
        "num2 = int(num2String)\n",
        "\n",
        "print ('Here is some output')\n",
        "print (num1,' plus ',num2,' equals ',num1+num2)\n",
        "print ('Thanks for playing')"
      ],
      "metadata": {
        "colab": {
          "base_uri": "https://localhost:8080/"
        },
        "id": "z899zOuKwh7X",
        "outputId": "36a96b9e-6cba-4e1e-9cfc-b5865ed90533"
      },
      "execution_count": null,
      "outputs": [
        {
          "output_type": "stream",
          "name": "stdout",
          "text": [
            "Please enter an integer: 2025\n",
            "Please enter a second integer: 2345\n",
            "Here is some output\n",
            "2025  plus  2345  equals  4370\n",
            "Thanks for playing\n"
          ]
        }
      ]
    },
    {
      "cell_type": "code",
      "source": [
        "# Prompt user to enter a number\n",
        "num_str = input(\"Please enter a number: \")\n",
        "\n",
        "# Convert the string input to a floating point number\n",
        "num_float = float(num_str)\n",
        "\n",
        "# Multiply the number by 2\n",
        "result = num_float * 2\n",
        "\n",
        "# Print the original number and the result using commas to separate values\n",
        "print(\"Number\", num_float, \"times two:\", result)\n",
        "\n",
        "# Show scientific notation example\n",
        "sci_value = 4e5\n",
        "print(\"Scientific notation example: 4e5 =\", sci_value)\n",
        "\n",
        "# Raise the number to a power using **\n",
        "power_result = num_float ** 1.5\n",
        "print(\"Number\", num_float, \"raised to the power 1.5 is\", power_result)\n",
        "\n",
        "# Optional: simple spacing for alignment\n",
        "print(\"\\nFormatted Output (using spaces):\")\n",
        "print(\"Original Number       :\", num_float)\n",
        "print(\"Times Two             :\", result)\n",
        "print(\"Raised to Power 1.5   :\", power_result)\n",
        "print(\"Scientific Notation   :\", sci_value)\n"
      ],
      "metadata": {
        "colab": {
          "base_uri": "https://localhost:8080/"
        },
        "id": "WDDn8u7cxfbU",
        "outputId": "603404fb-385d-497b-f356-acb904c3b8e0"
      },
      "execution_count": null,
      "outputs": [
        {
          "output_type": "stream",
          "name": "stdout",
          "text": [
            "Please enter a number: 55\n",
            "Number 55.0 times two: 110.0\n",
            "Scientific notation example: 4e5 = 400000.0\n",
            "Number 55.0 raised to the power 1.5 is 407.8909167902615\n",
            "\n",
            "Formatted Output (using spaces):\n",
            "Original Number       : 55.0\n",
            "Times Two             : 110.0\n",
            "Raised to Power 1.5   : 407.8909167902615\n",
            "Scientific Notation   : 400000.0\n"
          ]
        }
      ]
    },
    {
      "cell_type": "code",
      "source": [
        "\n",
        "air_temp_str = input(\"Enter the air temperature (in Fahrenheit): \")\n",
        "air_temp = float(air_temp_str)\n",
        "\n",
        "\n",
        "air_speed_str = input(\"Enter the wind speed (in miles per hour): \")\n",
        "air_speed = float(air_speed_str)\n",
        "\n",
        "\n",
        "wct_index = 35.74 + 0.6215 * air_temp \\\n",
        "            - 35.75 * air_speed**0.16 \\\n",
        "            + 0.4275 * air_temp * air_speed**0.16\n",
        "\n",
        "# Display the input values and the result\n",
        "print(\"Air Temperature:\", air_temp)\n",
        "print(\"Wind Speed:\", air_speed)\n",
        "print(\"Wind Chill Temperature Index:\", wct_index)\n"
      ],
      "metadata": {
        "colab": {
          "base_uri": "https://localhost:8080/"
        },
        "id": "xv1ehepMypUU",
        "outputId": "791bd179-bd64-4368-d6c5-d39875100dd4"
      },
      "execution_count": null,
      "outputs": [
        {
          "output_type": "stream",
          "name": "stdout",
          "text": [
            "Enter the air temperature (in Fahrenheit): 94\n",
            "Enter the wind speed (in miles per hour): 2.3\n",
            "Air Temperature: 94.0\n",
            "Wind Speed: 2.3\n",
            "Wind Chill Temperature Index: 99.22822370760393\n"
          ]
        }
      ]
    },
    {
      "cell_type": "code",
      "source": [
        "# Get a number from the user using input\n",
        "num_str = input('Please enter a number: ')\n",
        "float_var = float(num_str)\n",
        "\n",
        "# Print the number and its double\n",
        "print('The number', float_var, 'times two is', float_var * 2)\n",
        "\n",
        "# Demonstrate arithmetic operations\n",
        "a = float_var\n",
        "b = 4.0\n",
        "\n",
        "print('Sum of', a, 'and', b, 'is', a + b)\n",
        "print('Difference of', a, 'and', b, 'is', a - b)\n",
        "print('Product of', a, 'and', b, 'is', a * b)\n",
        "print('Quotient of', a, 'divided by', b, 'is', a / b)\n",
        "print('Remainder when', a, 'is divided by', b, 'is', a % b)\n"
      ],
      "metadata": {
        "colab": {
          "base_uri": "https://localhost:8080/"
        },
        "id": "XcTw-1EbzRK7",
        "outputId": "76a73834-c000-40fc-9f31-8f3cc59cffab"
      },
      "execution_count": null,
      "outputs": [
        {
          "output_type": "stream",
          "name": "stdout",
          "text": [
            "Please enter a number: 120\n",
            "The number 120.0 times two is 240.0\n",
            "Sum of 120.0 and 4.0 is 124.0\n",
            "Difference of 120.0 and 4.0 is 116.0\n",
            "Product of 120.0 and 4.0 is 480.0\n",
            "Quotient of 120.0 divided by 4.0 is 30.0\n",
            "Remainder when 120.0 is divided by 4.0 is 0.0\n"
          ]
        }
      ]
    },
    {
      "cell_type": "code",
      "source": [
        "# Initial population\n",
        "current_population = 307357870\n",
        "\n",
        "# Time conversions\n",
        "seconds_per_year = 365 * 24 * 60 * 60\n",
        "\n",
        "\n",
        "birth_every = 7\n",
        "death_every = 13\n",
        "immigrant_every = 45\n",
        "\n",
        "# Annual changes\n",
        "births_per_year = seconds_per_year // birth_every\n",
        "deaths_per_year = seconds_per_year // death_every\n",
        "immigrants_per_year = seconds_per_year // immigrant_every\n",
        "\n",
        "# Net population change per year\n",
        "population_change_per_year = births_per_year + immigrants_per_year - deaths_per_year\n",
        "\n",
        "# User input\n",
        "years_str = input(\"Enter the number of years into the future: \")\n",
        "years = int(years_str)\n",
        "\n",
        "# Calculate future population\n",
        "future_population = current_population + population_change_per_year * years\n",
        "\n",
        "# Output\n",
        "print(\"Predicted population after\", years, \"years is\", int(future_population))\n"
      ],
      "metadata": {
        "colab": {
          "base_uri": "https://localhost:8080/"
        },
        "id": "O6pGvW571kS6",
        "outputId": "68010f5f-2151-4696-f615-bfdf3a2998bf"
      },
      "execution_count": null,
      "outputs": [
        {
          "output_type": "stream",
          "name": "stdout",
          "text": [
            "Enter the number of years into the future: 2045\n",
            "Predicted population after 2045 years is 5992654190\n"
          ]
        }
      ]
    },
    {
      "cell_type": "code",
      "source": [
        "import math\n",
        "\n",
        "# Constants\n",
        "rest_mass = 70000  # in kg\n",
        "destinations = {\n",
        "    \"Alpha Centauri\": 4.3,\n",
        "    \"Barnard’s Star\": 6.0,\n",
        "    \"Betelgeuse\": 309.0,\n",
        "    \"Andromeda Galaxy\": 2000000.0\n",
        "}\n",
        "\n",
        "speed_percent = float(input(\"Enter speed as a percentage of the speed of light (e.g., 90 for 90% of c): \"))\n",
        "v = speed_percent / 100  # Convert to a fraction of the speed of light\n",
        "\n",
        "# Validate speed\n",
        "if v <= 0 or v >= 1:\n",
        "    print(\"Speed must be between 0 and 100 (not inclusive).\")\n",
        "else:\n",
        "    # Calculate relativistic mass\n",
        "    gamma = 1 / math.sqrt(1 - v ** 2)\n",
        "    relativistic_mass = rest_mass * gamma\n",
        "\n",
        "    print(\"\\n--- Ship Information ---\")\n",
        "    print(\"Speed of ship: {:.2f}% of the speed of light\".format(speed_percent))\n",
        "    print(\"Relativistic mass of the ship: {:.2f} kg\".format(relativistic_mass))\n",
        "\n",
        "    print(\"\\n--- Travel Times Experienced by Astronauts ---\")\n",
        "    for star, distance in destinations.items():\n",
        "        time_ship = (distance / v) * math.sqrt(1 - v ** 2)\n",
        "        print(f\"{star}: {time_ship:.2f} years\")\n"
      ],
      "metadata": {
        "colab": {
          "base_uri": "https://localhost:8080/"
        },
        "id": "eFMLfq2y2mj_",
        "outputId": "25f71438-561e-467b-b4cb-87cd0910cc12"
      },
      "execution_count": null,
      "outputs": [
        {
          "output_type": "stream",
          "name": "stdout",
          "text": [
            "Enter speed as a percentage of the speed of light (e.g., 90 for 90% of c): 99\n",
            "\n",
            "--- Ship Information ---\n",
            "Speed of ship: 99.00% of the speed of light\n",
            "Relativistic mass of the ship: 496216.84 kg\n",
            "\n",
            "--- Travel Times Experienced by Astronauts ---\n",
            "Alpha Centauri: 0.61 years\n",
            "Barnard’s Star: 0.85 years\n",
            "Betelgeuse: 44.03 years\n",
            "Andromeda Galaxy: 284984.57 years\n"
          ]
        }
      ]
    },
    {
      "cell_type": "code",
      "source": [
        "# Constants\n",
        "BILL_THICKNESS_INCHES = 0.0043\n",
        "INCHES_PER_MILE = 63360\n",
        "DISTANCE_TO_MOON_MILES = 238855\n",
        "\n",
        "# Get user inputs\n",
        "debt = float(input(\"Enter the national debt in dollars: \"))\n",
        "denomination = int(input(\"Enter the denomination of the U.S. bill (e.g., 1, 5, 10, 20, 50, 100): \"))\n",
        "\n",
        "# Calculate number of bills\n",
        "number_of_bills = debt / denomination\n",
        "\n",
        "total_height_inches = number_of_bills * BILL_THICKNESS_INCHES\n",
        "height_in_miles = total_height_inches / INCHES_PER_MILE\n",
        "\n",
        "\n",
        "times_to_moon = height_in_miles / DISTANCE_TO_MOON_MILES\n",
        "\n",
        "# Display the results\n",
        "print(\"\\n--- Debt Stack Analysis ---\")\n",
        "print(f\"Height of the stack: {height_in_miles:.2f} miles\")\n",
        "print(f\"That’s about {times_to_moon:.2f} times the distance to the Moon!\")\n"
      ],
      "metadata": {
        "colab": {
          "base_uri": "https://localhost:8080/"
        },
        "id": "Bs8NRmxs3dHb",
        "outputId": "c4e40ae4-baa3-4924-b1df-8713d5e15c67"
      },
      "execution_count": null,
      "outputs": [
        {
          "output_type": "stream",
          "name": "stdout",
          "text": [
            "Enter the national debt in dollars: 23456000\n",
            "Enter the denomination of the U.S. bill (e.g., 1, 5, 10, 20, 50, 100): 100\n",
            "\n",
            "--- Debt Stack Analysis ---\n",
            "Height of the stack: 0.02 miles\n",
            "That’s about 0.00 times the distance to the Moon!\n"
          ]
        }
      ]
    },
    {
      "cell_type": "code",
      "source": [
        "# Brief descriptive message\n",
        "print(\"Welcome to the SLAYER puzzle challenge!\")\n",
        "print(\"Guess the correct 6-digit number representing the word SLAYER.\")\n",
        "\n",
        "# Prompt user for their guess (must be an integer)\n",
        "guess = int(input(\"Enter your 6-digit guess for SLAYER: \"))\n",
        "\n",
        "\n",
        "SLAYER = 563210\n",
        "\n",
        "# Check the guess\n",
        "if guess == SLAYER:\n",
        "    print(\"Congratulations! Your guess is correct. You have solved the SLAYER puzzle!\")\n",
        "elif 100000 <= guess <= 999999:\n",
        "    print(\"Incorrect guess.\")\n",
        "    if guess < SLAYER:\n",
        "        print(\"Your guess is too low.\")\n",
        "    else:\n",
        "        print(\"Your guess is too high.\")\n",
        "else:\n",
        "    print(\"Invalid input. Please enter a 6-digit number.\")\n"
      ],
      "metadata": {
        "colab": {
          "base_uri": "https://localhost:8080/"
        },
        "id": "M010SPjw4248",
        "outputId": "ffdefad4-5b77-464e-d6ba-6f604d43e957"
      },
      "execution_count": null,
      "outputs": [
        {
          "output_type": "stream",
          "name": "stdout",
          "text": [
            "Welcome to the SLAYER puzzle challenge!\n",
            "Guess the correct 6-digit number representing the word SLAYER.\n",
            "Enter your 6-digit guess for SLAYER: 342566\n",
            "Incorrect guess.\n",
            "Your guess is too low.\n"
          ]
        }
      ]
    },
    {
      "cell_type": "code",
      "source": [
        "# Import the Python math module\n",
        "\n",
        "import math\n",
        "\n",
        "# The import command (above) makes all names defined in the Python\n",
        "# math library available for use in this program.  To use a name\n",
        "# defined in a library, you need to prefix the name with the library\n",
        "# name.  For instance, math.pi refers to the name pi in the math libary.\n",
        "\n",
        "print( \"Value of math.pi:\", math.pi )\n",
        "\n",
        "# The round function rounds a number (the first argument) to a specified\n",
        "# number of decimal digits (the second argument; default is 0).\n",
        "\n",
        "print( \"Result of round(math.pi):\", round(math.pi) )\n",
        "print( \"Result of round(math.pi,4):\", round(math.pi,4) )\n",
        "\n",
        "# The input function accepts a string (a sequence of characters between quotes)\n",
        "# as a prompt to display to the user.  It then waits until the user types a\n",
        "# response (terminated by the user touching the Enter key).  It returns\n",
        "# whatever the user typed as a string.\n",
        "\n",
        "count_str = input( \"Enter a count (an integer number):\" )\n",
        "length_str = input( \"Enter a length (a floating point number):\" )\n",
        "\n",
        "\n",
        "count = int( count_str )\n",
        "\n",
        "# The float function converts its argument (a string or number) to a\n",
        "# value of type float, provided the argument represents a number.\n",
        "\n",
        "length = float( length_str )\n",
        "\n",
        "\n",
        "print( \"The count:\", count )\n",
        "print( \"The length:\", length )\n",
        "\n",
        "print( \"The area of\", count, \"squares is\", 4*length**2, \"sq units.\" )\n",
        "\n",
        "# Converting a float to a value of type int truncates the float\n",
        "\n",
        "price = 7.99\n",
        "\n",
        "print( \"Price:\", price )\n",
        "print( \"Price as an integer:\", int(price) )"
      ],
      "metadata": {
        "colab": {
          "base_uri": "https://localhost:8080/"
        },
        "id": "moYZu_Mq6F67",
        "outputId": "a4d79f56-db35-410c-85d1-cf4a8ab1c480"
      },
      "execution_count": null,
      "outputs": [
        {
          "output_type": "stream",
          "name": "stdout",
          "text": [
            "Value of math.pi: 3.141592653589793\n",
            "Result of round(math.pi): 3\n",
            "Result of round(math.pi,4): 3.1416\n",
            "Enter a count (an integer number):5\n",
            "Enter a length (a floating point number):5\n",
            "The count: 5\n",
            "The length: 5.0\n",
            "The area of 5 squares is 100.0 sq units.\n",
            "Price: 7.99\n",
            "Price as an integer: 7\n"
          ]
        }
      ]
    },
    {
      "cell_type": "code",
      "source": [
        "# Function to reverse a number\n",
        "def reverse_number(num):\n",
        "    return int(str(num)[::-1])\n",
        "\n",
        "# Function to play the Einstein game\n",
        "def einstein_game():\n",
        "    # Step 1: Print game message and rules\n",
        "    print(\"Welcome to the Einstein Game!\")\n",
        "    print(\"Rules:\")\n",
        "    print(\"1. Enter a 3-digit number.\")\n",
        "    print(\"2. We will reverse the number and subtract the smaller number from the larger one.\")\n",
        "    print(\"3. Then, we will reverse the difference and add it to the difference.\")\n",
        "    print(\"4. The result will always be 1089!\")\n",
        "\n",
        "    # Step 2: Prompt the user for a 3-digit number\n",
        "    while True:\n",
        "        user_number = input(\"Enter a 3-digit number: \")\n",
        "        if user_number.isdigit() and len(user_number) == 3:\n",
        "            user_number = int(user_number)\n",
        "            break\n",
        "        else:\n",
        "            print(\"Please enter a valid 3-digit number.\")\n",
        "\n",
        "    # Step 3: Print the user number and the reverse of that number\n",
        "    reversed_number = reverse_number(user_number)\n",
        "    print(f\"Your number: {user_number}\")\n",
        "    print(f\"Reversed number: {reversed_number}\")\n",
        "\n",
        "    # Step 4: Calculate and print the difference between the entered number and the reversed number\n",
        "    difference = abs(user_number - reversed_number)\n",
        "    print(f\"Difference: {difference}\")\n",
        "\n",
        "    # Step 5: Print the reverse of the difference\n",
        "    reversed_difference = reverse_number(difference)\n",
        "    print(f\"Reversed difference: {reversed_difference}\")\n",
        "\n",
        "    # Step 6: Print the sum of the difference and the reversed difference\n",
        "    result = difference + reversed_difference\n",
        "    print(f\"Sum of the difference and the reversed difference: {result}\")\n",
        "\n",
        "    # Confirm that the result is always 1089\n",
        "    if result == 1089:\n",
        "        print(\"As expected, the result is always 1089!\")\n",
        "\n",
        "einstein_game()\n"
      ],
      "metadata": {
        "colab": {
          "base_uri": "https://localhost:8080/"
        },
        "id": "oa1c92ZU9dU6",
        "outputId": "e2dadf0a-b714-40cd-8cdf-7a5200d392ea"
      },
      "execution_count": null,
      "outputs": [
        {
          "output_type": "stream",
          "name": "stdout",
          "text": [
            "Welcome to the Einstein Game!\n",
            "Rules:\n",
            "1. Enter a 3-digit number.\n",
            "2. We will reverse the number and subtract the smaller number from the larger one.\n",
            "3. Then, we will reverse the difference and add it to the difference.\n",
            "4. The result will always be 1089!\n",
            "Enter a 3-digit number: 678\n",
            "Your number: 678\n",
            "Reversed number: 876\n",
            "Difference: 198\n",
            "Reversed difference: 891\n",
            "Sum of the difference and the reversed difference: 1089\n",
            "As expected, the result is always 1089!\n"
          ]
        }
      ]
    },
    {
      "cell_type": "code",
      "source": [
        "# Function to play the MacArthur game\n",
        "def macarthur_game():\n",
        "    # Step 1: Print game message and rules\n",
        "    print(\"Welcome to the MacArthur Game!\")\n",
        "    print(\"Rules:\")\n",
        "    print(\"1. Enter your birth month (1 for January, 2 for February, etc.) and your age.\")\n",
        "    print(\"2. A 'special' number will be calculated based on the algorithm described below.\")\n",
        "    print(\"3. You will then add 115 to the number, and we'll extract the last two digits as your age and the first one or two digits as your birth month.\")\n",
        "\n",
        "    # Step 2: Prompt the user for their birth month and age\n",
        "    while True:\n",
        "        try:\n",
        "            birth_month = int(input(\"Enter your birth month (1-12): \"))\n",
        "            age = int(input(\"Enter your age: \"))\n",
        "            if 1 <= birth_month <= 12 and age > 0:\n",
        "                break\n",
        "            else:\n",
        "                print(\"Please enter valid values (birth month between 1-12 and age greater than 0).\")\n",
        "        except ValueError:\n",
        "            print(\"Invalid input! Please enter numbers for both birth month and age.\")\n",
        "\n",
        "    # Step 3: Calculate the \"special\" number\n",
        "    special_number = (age * 100) + birth_month\n",
        "    print(f\"Your 'special' number is: {special_number}\")\n",
        "\n",
        "    # Step 4: Add 115 to the number and extract the last two digits (age) and first digits (birth month)\n",
        "    result_number = special_number + 115\n",
        "    last_two_digits = result_number % 100  # last two digits for age\n",
        "    first_digits = result_number // 100    # first one or two digits for birth month\n",
        "\n",
        "    # Step 5: Print out the birth month and the age of the player\n",
        "    print(f\"Your birth month is: {first_digits}\")\n",
        "    print(f\"Your age is: {last_two_digits}\")\n",
        "\n",
        "# Run the game\n",
        "macarthur_game()\n"
      ],
      "metadata": {
        "colab": {
          "base_uri": "https://localhost:8080/"
        },
        "id": "9Jf5eut_-kAr",
        "outputId": "f6de2901-9e71-45a0-f1e9-f1d8c2a1b1b2"
      },
      "execution_count": null,
      "outputs": [
        {
          "output_type": "stream",
          "name": "stdout",
          "text": [
            "Welcome to the MacArthur Game!\n",
            "Rules:\n",
            "1. Enter your birth month (1 for January, 2 for February, etc.) and your age.\n",
            "2. A 'special' number will be calculated based on the algorithm described below.\n",
            "3. You will then add 115 to the number, and we'll extract the last two digits as your age and the first one or two digits as your birth month.\n",
            "Enter your birth month (1-12): 2\n",
            "Enter your age: 19\n",
            "Your 'special' number is: 1902\n",
            "Your birth month is: 20\n",
            "Your age is: 17\n"
          ]
        }
      ]
    },
    {
      "cell_type": "code",
      "source": [
        "import math\n",
        "import os\n",
        "\n",
        "# Constants for the standard pitch (A4 = 440 Hz)\n",
        "A4_FREQUENCY = 440.0\n",
        "A4_MIDI = 69\n",
        "\n",
        "# Function to convert octave and pitch class into Hz\n",
        "def octave_pitch_to_hz(octave, pitch_class):\n",
        "\n",
        "    midi_number = (octave + 1) * 12 + pitch_class + 9\n",
        "\n",
        "\n",
        "    if (midi_number - A4_MIDI) / 12 > 1023:  # 1023 is roughly the limit for exponent in math.pow\n",
        "        raise OverflowError(\"The input octave and pitch class result in a frequency that is too high to be calculated.\")\n",
        "\n",
        "    # Calculate frequency based on the MIDI number\n",
        "    frequency = A4_FREQUENCY * math.pow(2, (midi_number - A4_MIDI) / 12)\n",
        "    return frequency\n",
        "\n",
        "# Function to play a note using Windows Beep (optional)\n",
        "def play_beep(frequency):\n",
        "    # Beep only works on Windows\n",
        "    if os.name == 'nt':\n",
        "        duration = 500  # Duration in milliseconds\n",
        "        os.system(f\"echo ^G\")  # Windows command to beep\n",
        "    else:\n",
        "        print(\"Beep function not available on this system.\")\n",
        "\n",
        "# Main program function\n",
        "def main():\n",
        "    # Step 1: Brief message about the program\n",
        "    print(\"Welcome to the Musical Note Frequency Converter!\")\n",
        "    print(\"This program will convert a series of octave and pitch class pairs into their corresponding frequencies in Hz.\")\n",
        "    print(\"You will be prompted to enter three pairs of octave and pitch class values.\")\n",
        "\n",
        "    # Step 2: Prompt for three octave and pitch class pairs\n",
        "    notes = []\n",
        "    for i in range(3):\n",
        "        print(f\"\\nEnter details for note {i+1}:\")\n",
        "        while True:\n",
        "            try:\n",
        "                octave = int(input(\"Enter octave (integer): \"))\n",
        "                pitch_class = int(input(\"Enter pitch class (integer between 0-11): \"))\n",
        "                if 0 <= pitch_class <= 11:\n",
        "                    notes.append((octave, pitch_class))\n",
        "                    break\n",
        "                else:\n",
        "                    print(\"Pitch class must be between 0 and 11.\")\n",
        "            except ValueError:\n",
        "                print(\"Invalid input! Please enter integers for octave and pitch class.\")\n",
        "\n",
        "    # Step 3: Convert each octpch pair to Hz and print the result\n",
        "    print(\"\\nFrequency results:\")\n",
        "    for i, (octave, pitch_class) in enumerate(notes):\n",
        "        frequency = octave_pitch_to_hz(octave, pitch_class)\n",
        "        print(f\"Note {i+1}: Octave = {octave}, Pitch Class = {pitch_class}, Frequency = {frequency:.2f} Hz\")\n",
        "\n",
        "    # Step 4: Optionally play the notes (Beep function)\n",
        "    play = input(\"\\nDo you want to play these notes using Beep (y/n)? \").strip().lower()\n",
        "    if play == 'y':\n",
        "        for octave, pitch_class in notes:\n",
        "            frequency = octave_pitch_to_hz(octave, pitch_class)\n",
        "            play_beep(frequency)\n",
        "\n",
        "if __name__ == \"__main__\":\n",
        "    main()\n"
      ],
      "metadata": {
        "colab": {
          "base_uri": "https://localhost:8080/"
        },
        "id": "cqfqPjg7_QOS",
        "outputId": "02bf8a2b-aec1-400e-8b15-524076309cb3"
      },
      "execution_count": null,
      "outputs": [
        {
          "name": "stdout",
          "output_type": "stream",
          "text": [
            "Welcome to the Musical Note Frequency Converter!\n",
            "This program will convert a series of octave and pitch class pairs into their corresponding frequencies in Hz.\n",
            "You will be prompted to enter three pairs of octave and pitch class values.\n",
            "\n",
            "Enter details for note 1:\n",
            "\n",
            "Enter details for note 2:\n",
            "\n",
            "Enter details for note 3:\n",
            "\n",
            "Frequency results:\n",
            "Note 1: Octave = 5, Pitch Class = 2, Frequency = 987.77 Hz\n",
            "Note 2: Octave = 8, Pitch Class = 0, Frequency = 7040.00 Hz\n",
            "Note 3: Octave = 2, Pitch Class = 3, Frequency = 130.81 Hz\n",
            "\n",
            "Do you want to play these notes using Beep (y/n)? n\n"
          ]
        }
      ]
    },
    {
      "cell_type": "code",
      "source": [
        "import math\n",
        "import turtle\n",
        "\n",
        "def calculate_angle(p1, p2):\n",
        "    # Vectors: A = (x1, y1), B = (x2 - x1, y2 - y1)\n",
        "    ax, ay = p1\n",
        "    bx, by = p2[0] - p1[0], p2[1] - p1[1]\n",
        "\n",
        "    # Dot product and magnitudes\n",
        "    dot = ax * bx + ay * by\n",
        "    mag_a = math.hypot(ax, ay)\n",
        "    mag_b = math.hypot(bx, by)\n",
        "\n",
        "    # Avoid division by zero\n",
        "    if mag_a == 0 or mag_b == 0:\n",
        "        return 0\n",
        "\n",
        "    # Angle in radians and degrees\n",
        "    cos_theta = dot / (mag_a * mag_b)\n",
        "    cos_theta = max(min(cos_theta, 1), -1)  # Clamp value\n",
        "    angle_rad = math.acos(cos_theta)\n",
        "    angle_deg = math.degrees(angle_rad)\n",
        "\n",
        "    # Return acute angle\n",
        "    return min(angle_deg, 180 - angle_deg)\n",
        "\n",
        "def draw_lines(p1, p2, angle):\n",
        "    turtle.setup(600, 600)\n",
        "    turtle.speed(1)\n",
        "    turtle.pensize(2)\n",
        "\n",
        "    # Move to origin and draw first line\n",
        "    turtle.penup()\n",
        "    turtle.goto(0, 0)\n",
        "    turtle.pendown()\n",
        "    turtle.goto(p1[0], p1[1])\n",
        "\n",
        "    # Draw second line from point 1 to point 2\n",
        "    turtle.goto(p2[0], p2[1])\n",
        "\n",
        "    # Move a bit and write the angle\n",
        "    turtle.penup()\n",
        "    turtle.goto(p2[0] + 10, p2[1] + 10)\n",
        "    turtle.write(f\"{angle:.2f}°\", font=(\"Arial\", 14, \"normal\"))\n",
        "\n",
        "    turtle.hideturtle()\n",
        "    # Save the drawing to a file instead of calling turtle.done()\n",
        "    turtle.getscreen().getcanvas().postscript(file=\"angle_visualization.eps\")\n",
        "    print(\"Drawing saved to angle_visualization.eps\")\n",
        "\n",
        "def main():\n",
        "    print(\"Welcome to the Angle Finder and Visualizer!\")\n",
        "    print(\"This program calculates and visualizes the acute angle between two lines.\")\n",
        "    print(\"Line 1: from (0,0) to the first point.\")\n",
        "    print(\"Line 2: from the first point to the second point.\")\n",
        "\n",
        "    try:\n",
        "        x1 = float(input(\"Enter x-coordinate of the first point: \"))\n",
        "        y1 = float(input(\"Enter y-coordinate of the first point: \"))\n",
        "        x2 = float(input(\"Enter x-coordinate of the second point: \"))\n",
        "        y2 = float(input(\"Enter y-coordinate of the second point: \"))\n",
        "    except ValueError:\n",
        "        print(\"Invalid input. Please enter numeric values.\")\n",
        "        return\n",
        "\n",
        "    p1 = (x1, y1)\n",
        "    p2 = (x2, y2)\n",
        "\n",
        "    angle = calculate_angle(p1, p2)\n",
        "    print(f\"\\nThe acute angle between the two lines is: {angle:.2f}°\")\n",
        "\n",
        "    draw_lines(p1, p2, angle)\n",
        "\n",
        "if __name__ == \"__main__\":\n",
        "    main()\n"
      ],
      "metadata": {
        "id": "eWcg8OJRAh_t",
        "colab": {
          "base_uri": "https://localhost:8080/",
          "height": 1000
        },
        "outputId": "c46b4108-ba8c-4094-eaf8-ff1f2ed7c597"
      },
      "execution_count": null,
      "outputs": [
        {
          "output_type": "stream",
          "name": "stdout",
          "text": [
            "Welcome to the Angle Finder and Visualizer!\n",
            "This program calculates and visualizes the acute angle between two lines.\n",
            "Line 1: from (0,0) to the first point.\n",
            "Line 2: from the first point to the second point.\n",
            "Enter x-coordinate of the first point: 100\n",
            "Enter y-coordinate of the first point: 0\n",
            "Enter x-coordinate of the second point: 100\n",
            "Enter y-coordinate of the second point: 100\n",
            "\n",
            "The acute angle between the two lines is: 90.00°\n"
          ]
        },
        {
          "output_type": "error",
          "ename": "TclError",
          "evalue": "no display name and no $DISPLAY environment variable",
          "traceback": [
            "\u001b[0;31m---------------------------------------------------------------------------\u001b[0m",
            "\u001b[0;31mTclError\u001b[0m                                  Traceback (most recent call last)",
            "\u001b[0;32m<ipython-input-29-b80879245960>\u001b[0m in \u001b[0;36m<cell line: 0>\u001b[0;34m()\u001b[0m\n\u001b[1;32m     73\u001b[0m \u001b[0;34m\u001b[0m\u001b[0m\n\u001b[1;32m     74\u001b[0m \u001b[0;32mif\u001b[0m \u001b[0m__name__\u001b[0m \u001b[0;34m==\u001b[0m \u001b[0;34m\"__main__\"\u001b[0m\u001b[0;34m:\u001b[0m\u001b[0;34m\u001b[0m\u001b[0;34m\u001b[0m\u001b[0m\n\u001b[0;32m---> 75\u001b[0;31m     \u001b[0mmain\u001b[0m\u001b[0;34m(\u001b[0m\u001b[0;34m)\u001b[0m\u001b[0;34m\u001b[0m\u001b[0;34m\u001b[0m\u001b[0m\n\u001b[0m",
            "\u001b[0;32m<ipython-input-29-b80879245960>\u001b[0m in \u001b[0;36mmain\u001b[0;34m()\u001b[0m\n\u001b[1;32m     70\u001b[0m     \u001b[0mprint\u001b[0m\u001b[0;34m(\u001b[0m\u001b[0;34mf\"\\nThe acute angle between the two lines is: {angle:.2f}°\"\u001b[0m\u001b[0;34m)\u001b[0m\u001b[0;34m\u001b[0m\u001b[0;34m\u001b[0m\u001b[0m\n\u001b[1;32m     71\u001b[0m \u001b[0;34m\u001b[0m\u001b[0m\n\u001b[0;32m---> 72\u001b[0;31m     \u001b[0mdraw_lines\u001b[0m\u001b[0;34m(\u001b[0m\u001b[0mp1\u001b[0m\u001b[0;34m,\u001b[0m \u001b[0mp2\u001b[0m\u001b[0;34m,\u001b[0m \u001b[0mangle\u001b[0m\u001b[0;34m)\u001b[0m\u001b[0;34m\u001b[0m\u001b[0;34m\u001b[0m\u001b[0m\n\u001b[0m\u001b[1;32m     73\u001b[0m \u001b[0;34m\u001b[0m\u001b[0m\n\u001b[1;32m     74\u001b[0m \u001b[0;32mif\u001b[0m \u001b[0m__name__\u001b[0m \u001b[0;34m==\u001b[0m \u001b[0;34m\"__main__\"\u001b[0m\u001b[0;34m:\u001b[0m\u001b[0;34m\u001b[0m\u001b[0;34m\u001b[0m\u001b[0m\n",
            "\u001b[0;32m<ipython-input-29-b80879245960>\u001b[0m in \u001b[0;36mdraw_lines\u001b[0;34m(p1, p2, angle)\u001b[0m\n\u001b[1;32m     26\u001b[0m \u001b[0;34m\u001b[0m\u001b[0m\n\u001b[1;32m     27\u001b[0m \u001b[0;32mdef\u001b[0m \u001b[0mdraw_lines\u001b[0m\u001b[0;34m(\u001b[0m\u001b[0mp1\u001b[0m\u001b[0;34m,\u001b[0m \u001b[0mp2\u001b[0m\u001b[0;34m,\u001b[0m \u001b[0mangle\u001b[0m\u001b[0;34m)\u001b[0m\u001b[0;34m:\u001b[0m\u001b[0;34m\u001b[0m\u001b[0;34m\u001b[0m\u001b[0m\n\u001b[0;32m---> 28\u001b[0;31m     \u001b[0mturtle\u001b[0m\u001b[0;34m.\u001b[0m\u001b[0msetup\u001b[0m\u001b[0;34m(\u001b[0m\u001b[0;36m600\u001b[0m\u001b[0;34m,\u001b[0m \u001b[0;36m600\u001b[0m\u001b[0;34m)\u001b[0m\u001b[0;34m\u001b[0m\u001b[0;34m\u001b[0m\u001b[0m\n\u001b[0m\u001b[1;32m     29\u001b[0m     \u001b[0mturtle\u001b[0m\u001b[0;34m.\u001b[0m\u001b[0mspeed\u001b[0m\u001b[0;34m(\u001b[0m\u001b[0;36m1\u001b[0m\u001b[0;34m)\u001b[0m\u001b[0;34m\u001b[0m\u001b[0;34m\u001b[0m\u001b[0m\n\u001b[1;32m     30\u001b[0m     \u001b[0mturtle\u001b[0m\u001b[0;34m.\u001b[0m\u001b[0mpensize\u001b[0m\u001b[0;34m(\u001b[0m\u001b[0;36m2\u001b[0m\u001b[0;34m)\u001b[0m\u001b[0;34m\u001b[0m\u001b[0;34m\u001b[0m\u001b[0m\n",
            "\u001b[0;32m/usr/lib/python3.11/turtle.py\u001b[0m in \u001b[0;36msetup\u001b[0;34m(width, height, startx, starty)\u001b[0m\n",
            "\u001b[0;32m/usr/lib/python3.11/turtle.py\u001b[0m in \u001b[0;36mScreen\u001b[0;34m()\u001b[0m\n\u001b[1;32m   3678\u001b[0m     else return the existing one.\"\"\"\n\u001b[1;32m   3679\u001b[0m     \u001b[0;32mif\u001b[0m \u001b[0mTurtle\u001b[0m\u001b[0;34m.\u001b[0m\u001b[0m_screen\u001b[0m \u001b[0;32mis\u001b[0m \u001b[0;32mNone\u001b[0m\u001b[0;34m:\u001b[0m\u001b[0;34m\u001b[0m\u001b[0;34m\u001b[0m\u001b[0m\n\u001b[0;32m-> 3680\u001b[0;31m         \u001b[0mTurtle\u001b[0m\u001b[0;34m.\u001b[0m\u001b[0m_screen\u001b[0m \u001b[0;34m=\u001b[0m \u001b[0m_Screen\u001b[0m\u001b[0;34m(\u001b[0m\u001b[0;34m)\u001b[0m\u001b[0;34m\u001b[0m\u001b[0;34m\u001b[0m\u001b[0m\n\u001b[0m\u001b[1;32m   3681\u001b[0m     \u001b[0;32mreturn\u001b[0m \u001b[0mTurtle\u001b[0m\u001b[0;34m.\u001b[0m\u001b[0m_screen\u001b[0m\u001b[0;34m\u001b[0m\u001b[0;34m\u001b[0m\u001b[0m\n\u001b[1;32m   3682\u001b[0m \u001b[0;34m\u001b[0m\u001b[0m\n",
            "\u001b[0;32m/usr/lib/python3.11/turtle.py\u001b[0m in \u001b[0;36m__init__\u001b[0;34m(self)\u001b[0m\n\u001b[1;32m   3694\u001b[0m         \u001b[0;31m# preserved (perhaps by passing it as an optional parameter)\u001b[0m\u001b[0;34m\u001b[0m\u001b[0;34m\u001b[0m\u001b[0m\n\u001b[1;32m   3695\u001b[0m         \u001b[0;32mif\u001b[0m \u001b[0m_Screen\u001b[0m\u001b[0;34m.\u001b[0m\u001b[0m_root\u001b[0m \u001b[0;32mis\u001b[0m \u001b[0;32mNone\u001b[0m\u001b[0;34m:\u001b[0m\u001b[0;34m\u001b[0m\u001b[0;34m\u001b[0m\u001b[0m\n\u001b[0;32m-> 3696\u001b[0;31m             \u001b[0m_Screen\u001b[0m\u001b[0;34m.\u001b[0m\u001b[0m_root\u001b[0m \u001b[0;34m=\u001b[0m \u001b[0mself\u001b[0m\u001b[0;34m.\u001b[0m\u001b[0m_root\u001b[0m \u001b[0;34m=\u001b[0m \u001b[0m_Root\u001b[0m\u001b[0;34m(\u001b[0m\u001b[0;34m)\u001b[0m\u001b[0;34m\u001b[0m\u001b[0;34m\u001b[0m\u001b[0m\n\u001b[0m\u001b[1;32m   3697\u001b[0m             \u001b[0mself\u001b[0m\u001b[0;34m.\u001b[0m\u001b[0m_root\u001b[0m\u001b[0;34m.\u001b[0m\u001b[0mtitle\u001b[0m\u001b[0;34m(\u001b[0m\u001b[0m_Screen\u001b[0m\u001b[0;34m.\u001b[0m\u001b[0m_title\u001b[0m\u001b[0;34m)\u001b[0m\u001b[0;34m\u001b[0m\u001b[0;34m\u001b[0m\u001b[0m\n\u001b[1;32m   3698\u001b[0m             \u001b[0mself\u001b[0m\u001b[0;34m.\u001b[0m\u001b[0m_root\u001b[0m\u001b[0;34m.\u001b[0m\u001b[0mondestroy\u001b[0m\u001b[0;34m(\u001b[0m\u001b[0mself\u001b[0m\u001b[0;34m.\u001b[0m\u001b[0m_destroy\u001b[0m\u001b[0;34m)\u001b[0m\u001b[0;34m\u001b[0m\u001b[0;34m\u001b[0m\u001b[0m\n",
            "\u001b[0;32m/usr/lib/python3.11/turtle.py\u001b[0m in \u001b[0;36m__init__\u001b[0;34m(self)\u001b[0m\n\u001b[1;32m    434\u001b[0m     \u001b[0;34m\"\"\"Root class for Screen based on Tkinter.\"\"\"\u001b[0m\u001b[0;34m\u001b[0m\u001b[0;34m\u001b[0m\u001b[0m\n\u001b[1;32m    435\u001b[0m     \u001b[0;32mdef\u001b[0m \u001b[0m__init__\u001b[0m\u001b[0;34m(\u001b[0m\u001b[0mself\u001b[0m\u001b[0;34m)\u001b[0m\u001b[0;34m:\u001b[0m\u001b[0;34m\u001b[0m\u001b[0;34m\u001b[0m\u001b[0m\n\u001b[0;32m--> 436\u001b[0;31m         \u001b[0mTK\u001b[0m\u001b[0;34m.\u001b[0m\u001b[0mTk\u001b[0m\u001b[0;34m.\u001b[0m\u001b[0m__init__\u001b[0m\u001b[0;34m(\u001b[0m\u001b[0mself\u001b[0m\u001b[0;34m)\u001b[0m\u001b[0;34m\u001b[0m\u001b[0;34m\u001b[0m\u001b[0m\n\u001b[0m\u001b[1;32m    437\u001b[0m \u001b[0;34m\u001b[0m\u001b[0m\n\u001b[1;32m    438\u001b[0m     \u001b[0;32mdef\u001b[0m \u001b[0msetupcanvas\u001b[0m\u001b[0;34m(\u001b[0m\u001b[0mself\u001b[0m\u001b[0;34m,\u001b[0m \u001b[0mwidth\u001b[0m\u001b[0;34m,\u001b[0m \u001b[0mheight\u001b[0m\u001b[0;34m,\u001b[0m \u001b[0mcwidth\u001b[0m\u001b[0;34m,\u001b[0m \u001b[0mcheight\u001b[0m\u001b[0;34m)\u001b[0m\u001b[0;34m:\u001b[0m\u001b[0;34m\u001b[0m\u001b[0;34m\u001b[0m\u001b[0m\n",
            "\u001b[0;32m/usr/lib/python3.11/tkinter/__init__.py\u001b[0m in \u001b[0;36m__init__\u001b[0;34m(self, screenName, baseName, className, useTk, sync, use)\u001b[0m\n\u001b[1;32m   2324\u001b[0m                 \u001b[0mbaseName\u001b[0m \u001b[0;34m=\u001b[0m \u001b[0mbaseName\u001b[0m \u001b[0;34m+\u001b[0m \u001b[0mext\u001b[0m\u001b[0;34m\u001b[0m\u001b[0;34m\u001b[0m\u001b[0m\n\u001b[1;32m   2325\u001b[0m         \u001b[0minteractive\u001b[0m \u001b[0;34m=\u001b[0m \u001b[0;32mFalse\u001b[0m\u001b[0;34m\u001b[0m\u001b[0;34m\u001b[0m\u001b[0m\n\u001b[0;32m-> 2326\u001b[0;31m         \u001b[0mself\u001b[0m\u001b[0;34m.\u001b[0m\u001b[0mtk\u001b[0m \u001b[0;34m=\u001b[0m \u001b[0m_tkinter\u001b[0m\u001b[0;34m.\u001b[0m\u001b[0mcreate\u001b[0m\u001b[0;34m(\u001b[0m\u001b[0mscreenName\u001b[0m\u001b[0;34m,\u001b[0m \u001b[0mbaseName\u001b[0m\u001b[0;34m,\u001b[0m \u001b[0mclassName\u001b[0m\u001b[0;34m,\u001b[0m \u001b[0minteractive\u001b[0m\u001b[0;34m,\u001b[0m \u001b[0mwantobjects\u001b[0m\u001b[0;34m,\u001b[0m \u001b[0museTk\u001b[0m\u001b[0;34m,\u001b[0m \u001b[0msync\u001b[0m\u001b[0;34m,\u001b[0m \u001b[0muse\u001b[0m\u001b[0;34m)\u001b[0m\u001b[0;34m\u001b[0m\u001b[0;34m\u001b[0m\u001b[0m\n\u001b[0m\u001b[1;32m   2327\u001b[0m         \u001b[0;32mif\u001b[0m \u001b[0museTk\u001b[0m\u001b[0;34m:\u001b[0m\u001b[0;34m\u001b[0m\u001b[0;34m\u001b[0m\u001b[0m\n\u001b[1;32m   2328\u001b[0m             \u001b[0mself\u001b[0m\u001b[0;34m.\u001b[0m\u001b[0m_loadtk\u001b[0m\u001b[0;34m(\u001b[0m\u001b[0;34m)\u001b[0m\u001b[0;34m\u001b[0m\u001b[0;34m\u001b[0m\u001b[0m\n",
            "\u001b[0;31mTclError\u001b[0m: no display name and no $DISPLAY environment variable"
          ]
        }
      ]
    },
    {
      "cell_type": "code",
      "source": [
        "def main():\n",
        "    # Step 1: Intro and rules\n",
        "    print(\"Welcome to the Magic Math Game!\")\n",
        "    print(\"Here's how the game works:\")\n",
        "    print(\"1. You will choose a number between 10 and 49. We'll call this your 'secret' number.\")\n",
        "    print(\"2. We will calculate a magic factor using this number.\")\n",
        "    print(\"3. Then, you'll enter any number between 50 and 99.\")\n",
        "    print(\"4. We'll use our factor to calculate a result — and it'll magically match your original number!\")\n",
        "\n",
        "    # Step 2: Prompt for your number between 10 and 49\n",
        "    while True:\n",
        "        try:\n",
        "            secret_number = int(input(\"\\nEnter your secret number (between 10 and 49): \"))\n",
        "            if 10 <= secret_number <= 49:\n",
        "                break\n",
        "            else:\n",
        "                print(\"Please enter a number in the range 10–49.\")\n",
        "        except ValueError:\n",
        "            print(\"Invalid input. Please enter a number.\")\n",
        "\n",
        "    # Step 3: Calculate the factor\n",
        "    factor = 100 // secret_number\n",
        "\n",
        "    # Step 4: Prompt player for number between 50 and 99\n",
        "    while True:\n",
        "        try:\n",
        "            player_number = int(input(\"Enter a number between 50 and 99: \"))\n",
        "            if 50 <= player_number <= 99:\n",
        "                break\n",
        "            else:\n",
        "                print(\"Please enter a number in the range 50–99.\")\n",
        "        except ValueError:\n",
        "            print(\"Invalid input. Please enter a number.\")\n",
        "\n",
        "    # Step 5: Do the calculation\n",
        "    result = player_number * secret_number\n",
        "    result = result // 100\n",
        "\n",
        "    # Step 6: Show result\n",
        "    print(f\"\\nYour number was: {secret_number}\")\n",
        "    print(f\"Calculation result: {result}\")\n",
        "\n",
        "    if result == secret_number:\n",
        "        print(\"🎉 Magic! The numbers match!\")\n",
        "    else:\n",
        "        print(\"Hmm... something went off. Try again!\")\n",
        "\n",
        "if __name__ == \"__main__\":\n",
        "    main()\n"
      ],
      "metadata": {
        "colab": {
          "base_uri": "https://localhost:8080/"
        },
        "id": "uxjBHq3iE2UD",
        "outputId": "edf4c141-15d9-48ff-ef4e-ecc913d21daa"
      },
      "execution_count": null,
      "outputs": [
        {
          "output_type": "stream",
          "name": "stdout",
          "text": [
            "Welcome to the Magic Math Game!\n",
            "Here's how the game works:\n",
            "1. You will choose a number between 10 and 49. We'll call this your 'secret' number.\n",
            "2. We will calculate a magic factor using this number.\n",
            "3. Then, you'll enter any number between 50 and 99.\n",
            "4. We'll use our factor to calculate a result — and it'll magically match your original number!\n",
            "\n",
            "Enter your secret number (between 10 and 49): 27\n",
            "Enter a number between 50 and 99: 87\n",
            "\n",
            "Your number was: 27\n",
            "Calculation result: 23\n",
            "Hmm... something went off. Try again!\n"
          ]
        }
      ]
    },
    {
      "cell_type": "code",
      "source": [
        "#This is a program for implementing the Russian Peasant Problem\n",
        "keepGoing = True\n",
        "while keepGoing == True:\n",
        "    print ('====================================================')\n",
        "    print\n",
        "    numbers = input(\"Please input the 2 numbers separated by a space:\")\n",
        "\n",
        "    a,b = numbers.split()\n",
        "    a,b = int(a), int(b)\n",
        "\n",
        "    product = 0\n",
        "    flag = 0\n",
        "    if b < 0:\n",
        "        b = -b\n",
        "        flag = 1\n",
        "\n",
        "    while b > 0:\n",
        "        #print ('A =',a,'and B =',b)\n",
        "        if b%2 == 1:\n",
        "            product+=a\n",
        "            print ('B was odd, we add A to make the product:',product)\n",
        "        a = a*2\n",
        "        b = b/2\n",
        "\n",
        "    if flag:\n",
        "        product = -product\n",
        "\n",
        "    if product == 0:\n",
        "        print (\"Product is zero(neither negative nor positive)\")\n",
        "    elif product < 0:\n",
        "        print (\"Product is negative\")\n",
        "    else:\n",
        "        print (\"Product is positive\")\n",
        "\n",
        "    print (\"The product of the two numbers is:\" , product)\n",
        "\n",
        "    choice = input(\"Do you want to continue?(y/n)\")\n",
        "    if choice== 'n' or choice=='N':\n",
        "        keepGoing = False\n",
        "        print ('Thanks for Playing')\n",
        "    elif choice == 'y' or choice == 'Y':\n",
        "        keepGoing = True\n",
        "    else:\n",
        "        keepGoing = False\n",
        "        print ('Bad input, quitting')"
      ],
      "metadata": {
        "colab": {
          "base_uri": "https://localhost:8080/"
        },
        "id": "8pHgSEY5GRrJ",
        "outputId": "c4299f26-e9a3-46e7-ccf1-41d69a8cc207"
      },
      "execution_count": null,
      "outputs": [
        {
          "output_type": "stream",
          "name": "stdout",
          "text": [
            "====================================================\n",
            "Please input the 2 numbers separated by a space:35 56\n",
            "B was odd, we add A to make the product: 280\n",
            "Product is positive\n",
            "The product of the two numbers is: 280\n",
            "Do you want to continue?(y/n)n\n",
            "Thanks for Playing\n"
          ]
        }
      ]
    },
    {
      "cell_type": "code",
      "source": [
        "# simple calculator\n",
        "# wfp, 9/06\n",
        "\n",
        "keepGoing=True\n",
        "\n",
        "while keepGoing:\n",
        "    expression = input(\"Give me an expression: \")\n",
        "    numStr1,op,numStr2 = expression.split()\n",
        "    num1 = float (numStr1)\n",
        "    num2 = float (numStr2)\n",
        "\n",
        "    if op == '+':\n",
        "        result = num1 + num2\n",
        "    elif op == '-':\n",
        "        result = num1 - num2\n",
        "    elif op == '*':\n",
        "        result = num1 * num2\n",
        "    elif op == '/':\n",
        "        if num2 == 0:\n",
        "            print (\"can't divide by 0, try again\")\n",
        "            continue\n",
        "        else:\n",
        "            result = num1 / num2\n",
        "\n",
        "    print (numStr1,op,numStr2,'equals',result)\n",
        "    tryAgain = input(\"Want to try again:\")\n",
        "    if tryAgain not in 'yesYesYES':\n",
        "        keepGoing=False\n",
        "\n",
        "print (\"Thanks for playing\")\n",
        "input(\"Hit any key to continue\")"
      ],
      "metadata": {
        "colab": {
          "base_uri": "https://localhost:8080/",
          "height": 122
        },
        "id": "MybNNSCpHZS-",
        "outputId": "7bfe85cd-1918-4824-ba5f-800b18900e9b"
      },
      "execution_count": null,
      "outputs": [
        {
          "name": "stdout",
          "output_type": "stream",
          "text": [
            "Give me an expression: 10 + 25\n",
            "10 + 25 equals 35.0\n",
            "Want to try again:yes \n",
            "Thanks for playing\n",
            "Hit any key to continue25 * 2\n"
          ]
        },
        {
          "output_type": "execute_result",
          "data": {
            "text/plain": [
              "'25 * 2'"
            ],
            "application/vnd.google.colaboratory.intrinsic+json": {
              "type": "string"
            }
          },
          "metadata": {},
          "execution_count": 37
        }
      ]
    },
    {
      "cell_type": "code",
      "source": [
        "order = int(input(\"Please input the order of square: \"))\n",
        "top_left = int(input(\"Please input the top left number:\"))\n",
        "\n",
        "while top_left < 1 or top_left > order:\n",
        "    print (\"The top left number is invalid.\")\n",
        "    top_left = int(input(\"Please input the top left number:\"))\n",
        "\n",
        "print (\"The Latin Square is:\")\n",
        "\n",
        "row_count = 1\n",
        "while row_count <= order:\n",
        "    for i in range(order):\n",
        "        if (top_left + i) == 0:\n",
        "            print (order),\n",
        "        else:\n",
        "            print(top_left+i)\n",
        "    print()\n",
        "    row_count += 1\n",
        "    top_left += 1"
      ],
      "metadata": {
        "colab": {
          "base_uri": "https://localhost:8080/"
        },
        "id": "smV2bG8lIKsx",
        "outputId": "44276696-77ad-4ca6-9461-95de3d62c768"
      },
      "execution_count": null,
      "outputs": [
        {
          "output_type": "stream",
          "name": "stdout",
          "text": [
            "Please input the order of square: 4\n",
            "Please input the top left number:2\n",
            "The Latin Square is:\n",
            "2\n",
            "3\n",
            "4\n",
            "5\n",
            "\n",
            "3\n",
            "4\n",
            "5\n",
            "6\n",
            "\n",
            "4\n",
            "5\n",
            "6\n",
            "7\n",
            "\n",
            "5\n",
            "6\n",
            "7\n",
            "8\n",
            "\n"
          ]
        }
      ]
    },
    {
      "cell_type": "code",
      "source": [
        "#!/usr/bin/python3\n",
        "\n",
        "WELCOME = \"Welcome to the vending machine change maker program\"\n",
        "INIT_MSG = \"Change maker initialized.\"\n",
        "CHANGE_MSG = \"\\nPlease take the change below.\"\n",
        "REFUND_MSG = \"See store manager for remaining refund.\"\n",
        "OUT_MSG = \"Machine is out of change.\"\n",
        "DUE_MSG = \"Amount due is:\"\n",
        "STOCK_MSG = \"Stock contains:\"\n",
        "PRICE_MSG = \"\\nEnter the purchase price (xx.xx) or `q' to quit: \"\n",
        "\n",
        "MENU = \"\"\"\n",
        "Menu for deposits:\n",
        "  'n' - deposit a nickel\n",
        "  'd' - deposit a dime\n",
        "  'q' - deposit a quarter\n",
        "  'o' - deposit a one dollar bill\n",
        "  'f' - deposit a five dollar bill\n",
        "  'c' - cancel the purchase\n",
        "\"\"\"\n",
        "\n",
        "# read in the starting counts of the coin and bills\n",
        "print(WELCOME)\n",
        "nickels = dimes = quarters = 25\n",
        "ones = fives = 0\n",
        "\n",
        "print(INIT_MSG)\n",
        "print(STOCK_MSG)\n",
        "print(\"  \", nickels, \"nickels\")\n",
        "print(\"  \", dimes, \"dimes\")\n",
        "print(\"  \", quarters, \"quarters\")\n",
        "print(\"  \", ones, \"ones\")\n",
        "print(\"  \", fives, \"fives\")\n",
        "\n",
        "price_response = input(PRICE_MSG)\n",
        "while price_response != 'q':\n",
        "\n",
        "    # convert to number of cents and check that is multiple of 5\n",
        "    price = int(round(float(price_response) * 100))\n",
        "    if (price % 5) or price < 0:\n",
        "        print(\"Illegal price: Must be a non-negative multiple of 5 cents.\")\n",
        "        price_response = input(PRICE_MSG)\n",
        "        continue\n",
        "\n",
        "    # gather payment\n",
        "    print(MENU)\n",
        "    payment = 0\n",
        "    denomination = \"\"   # arbitrary value, not equal to 'c'\n",
        "    while (payment < price) and (denomination != 'c'):\n",
        "        due = price-payment\n",
        "        print(\"Payment due: \", end=\"\")\n",
        "        if due > 100:\n",
        "            print(due//100, \"dollars and \", end=\"\")\n",
        "        print(due%100, \"cents\")\n",
        "\n",
        "        denomination = input(\"Indicate your deposit: \")\n",
        "        if denomination == 'n':\n",
        "            payment += 5\n",
        "            nickels +=1\n",
        "        elif denomination == 'd':\n",
        "            payment += 10\n",
        "            dimes += 1\n",
        "        elif denomination == 'q':\n",
        "            payment += 25\n",
        "            quarters += 1\n",
        "        elif denomination == 'o':\n",
        "            payment += 100\n",
        "            ones += 1\n",
        "        elif denomination == 'f':\n",
        "            payment += 500\n",
        "            fives += 1\n",
        "        elif denomination != 'c':\n",
        "            print(\"Illegal selection:\", denomination)\n",
        "\n",
        "##    # for testing/debugging\n",
        "##    print (\"Price is\", price)\n",
        "##    print (\"Payment is\", payment)\n",
        "##    print (\"Return requested:\", end=' ')\n",
        "##    print (denomination == 'c')\n",
        "\n",
        "    # determine change to be returned\n",
        "    if denomination == 'c':\n",
        "        change = payment\n",
        "    else:\n",
        "        change = payment - price\n",
        "\n",
        "##    # for testing/debugging\n",
        "##    print (\"Change needed is\", change)\n",
        "\n",
        "    print(CHANGE_MSG)\n",
        "    if change == 0:\n",
        "        print(\"  No change due.\")\n",
        "    else:\n",
        "        # figure out how many coins of each denomination to return\n",
        "        q2return = change // 25\n",
        "        if q2return > quarters:\n",
        "            q2return = quarters\n",
        "        change -= 25 * q2return\n",
        "        quarters -= q2return\n",
        "\n",
        "        d2return = change // 10\n",
        "        if d2return > dimes:\n",
        "            d2return = dimes\n",
        "        change -= 10 * d2return\n",
        "        dimes -= d2return\n",
        "\n",
        "        n2return = change // 5\n",
        "        if n2return > nickels:\n",
        "            n2return = nickels\n",
        "        change -= 5 * n2return\n",
        "        nickels -= n2return\n",
        "\n",
        "        #print the change\n",
        "        if q2return > 0:\n",
        "            print(\"  \", q2return, \"quarters\")\n",
        "        if d2return > 0:\n",
        "            print(\"  \", d2return, \"dimes\")\n",
        "        if n2return > 0:\n",
        "            print(\"  \", n2return, \"nickels\")\n",
        "\n",
        "        if change > 0:\n",
        "            print(OUT_MSG)\n",
        "            print(REFUND_MSG)\n",
        "            print(DUE_MSG, end=\" \")\n",
        "            if change > 100:\n",
        "                print(change//100, \"dollars and \", end=\"\")\n",
        "            print(change%100, \"cents\")\n",
        "\n",
        "    print()\n",
        "    print(STOCK_MSG)\n",
        "    print(\"  \", nickels, \"nickels\")\n",
        "    print(\"  \", dimes, \"dimes\")\n",
        "    print(\"  \", quarters, \"quarters\")\n",
        "    print(\"  \", ones, \"ones\")\n",
        "    print(\"  \", fives, \"fives\")\n",
        "\n",
        "    price_response = input(PRICE_MSG)\n",
        "\n",
        "stock_total = 500*fives + 100*ones + 25*quarters + 10*dimes + 5*nickels\n",
        "print()\n",
        "print(\"Total: \", end=\"\")\n",
        "if stock_total>100:\n",
        "    print(stock_total//100, \"dollars and \", end=\"\")\n",
        "print(stock_total%100, \"cents\")"
      ],
      "metadata": {
        "colab": {
          "base_uri": "https://localhost:8080/",
          "height": 859
        },
        "id": "jDDxQfKjJSdX",
        "outputId": "97cab8a3-2006-44b1-9f4f-2ec85970a9be"
      },
      "execution_count": null,
      "outputs": [
        {
          "output_type": "stream",
          "name": "stdout",
          "text": [
            "Welcome to the vending machine change maker program\n",
            "Change maker initialized.\n",
            "Stock contains:\n",
            "   25 nickels\n",
            "   25 dimes\n",
            "   25 quarters\n",
            "   0 ones\n",
            "   0 fives\n",
            "\n",
            "Enter the purchase price (xx.xx) or `q' to quit: 10.45\n",
            "\n",
            "Menu for deposits:\n",
            "  'n' - deposit a nickel\n",
            "  'd' - deposit a dime\n",
            "  'q' - deposit a quarter\n",
            "  'o' - deposit a one dollar bill\n",
            "  'f' - deposit a five dollar bill\n",
            "  'c' - cancel the purchase\n",
            "\n",
            "Payment due: 10 dollars and 45 cents\n",
            "Indicate your deposit: 34\n",
            "Illegal selection: 34\n",
            "Payment due: 10 dollars and 45 cents\n",
            "Indicate your deposit: 23\n",
            "Illegal selection: 23\n",
            "Payment due: 10 dollars and 45 cents\n",
            "Indicate your deposit: 10\n",
            "Illegal selection: 10\n",
            "Payment due: 10 dollars and 45 cents\n"
          ]
        },
        {
          "output_type": "error",
          "ename": "KeyboardInterrupt",
          "evalue": "Interrupted by user",
          "traceback": [
            "\u001b[0;31m---------------------------------------------------------------------------\u001b[0m",
            "\u001b[0;31mKeyboardInterrupt\u001b[0m                         Traceback (most recent call last)",
            "\u001b[0;32m<ipython-input-43-0a91a4ff6a7e>\u001b[0m in \u001b[0;36m<cell line: 0>\u001b[0;34m()\u001b[0m\n\u001b[1;32m     54\u001b[0m         \u001b[0mprint\u001b[0m\u001b[0;34m(\u001b[0m\u001b[0mdue\u001b[0m\u001b[0;34m%\u001b[0m\u001b[0;36m100\u001b[0m\u001b[0;34m,\u001b[0m \u001b[0;34m\"cents\"\u001b[0m\u001b[0;34m)\u001b[0m\u001b[0;34m\u001b[0m\u001b[0;34m\u001b[0m\u001b[0m\n\u001b[1;32m     55\u001b[0m \u001b[0;34m\u001b[0m\u001b[0m\n\u001b[0;32m---> 56\u001b[0;31m         \u001b[0mdenomination\u001b[0m \u001b[0;34m=\u001b[0m \u001b[0minput\u001b[0m\u001b[0;34m(\u001b[0m\u001b[0;34m\"Indicate your deposit: \"\u001b[0m\u001b[0;34m)\u001b[0m\u001b[0;34m\u001b[0m\u001b[0;34m\u001b[0m\u001b[0m\n\u001b[0m\u001b[1;32m     57\u001b[0m         \u001b[0;32mif\u001b[0m \u001b[0mdenomination\u001b[0m \u001b[0;34m==\u001b[0m \u001b[0;34m'n'\u001b[0m\u001b[0;34m:\u001b[0m\u001b[0;34m\u001b[0m\u001b[0;34m\u001b[0m\u001b[0m\n\u001b[1;32m     58\u001b[0m             \u001b[0mpayment\u001b[0m \u001b[0;34m+=\u001b[0m \u001b[0;36m5\u001b[0m\u001b[0;34m\u001b[0m\u001b[0;34m\u001b[0m\u001b[0m\n",
            "\u001b[0;32m/usr/local/lib/python3.11/dist-packages/ipykernel/kernelbase.py\u001b[0m in \u001b[0;36mraw_input\u001b[0;34m(self, prompt)\u001b[0m\n\u001b[1;32m   1175\u001b[0m                 \u001b[0;34m\"raw_input was called, but this frontend does not support input requests.\"\u001b[0m\u001b[0;34m\u001b[0m\u001b[0;34m\u001b[0m\u001b[0m\n\u001b[1;32m   1176\u001b[0m             )\n\u001b[0;32m-> 1177\u001b[0;31m         return self._input_request(\n\u001b[0m\u001b[1;32m   1178\u001b[0m             \u001b[0mstr\u001b[0m\u001b[0;34m(\u001b[0m\u001b[0mprompt\u001b[0m\u001b[0;34m)\u001b[0m\u001b[0;34m,\u001b[0m\u001b[0;34m\u001b[0m\u001b[0;34m\u001b[0m\u001b[0m\n\u001b[1;32m   1179\u001b[0m             \u001b[0mself\u001b[0m\u001b[0;34m.\u001b[0m\u001b[0m_parent_ident\u001b[0m\u001b[0;34m[\u001b[0m\u001b[0;34m\"shell\"\u001b[0m\u001b[0;34m]\u001b[0m\u001b[0;34m,\u001b[0m\u001b[0;34m\u001b[0m\u001b[0;34m\u001b[0m\u001b[0m\n",
            "\u001b[0;32m/usr/local/lib/python3.11/dist-packages/ipykernel/kernelbase.py\u001b[0m in \u001b[0;36m_input_request\u001b[0;34m(self, prompt, ident, parent, password)\u001b[0m\n\u001b[1;32m   1217\u001b[0m             \u001b[0;32mexcept\u001b[0m \u001b[0mKeyboardInterrupt\u001b[0m\u001b[0;34m:\u001b[0m\u001b[0;34m\u001b[0m\u001b[0;34m\u001b[0m\u001b[0m\n\u001b[1;32m   1218\u001b[0m                 \u001b[0;31m# re-raise KeyboardInterrupt, to truncate traceback\u001b[0m\u001b[0;34m\u001b[0m\u001b[0;34m\u001b[0m\u001b[0m\n\u001b[0;32m-> 1219\u001b[0;31m                 \u001b[0;32mraise\u001b[0m \u001b[0mKeyboardInterrupt\u001b[0m\u001b[0;34m(\u001b[0m\u001b[0;34m\"Interrupted by user\"\u001b[0m\u001b[0;34m)\u001b[0m \u001b[0;32mfrom\u001b[0m \u001b[0;32mNone\u001b[0m\u001b[0;34m\u001b[0m\u001b[0;34m\u001b[0m\u001b[0m\n\u001b[0m\u001b[1;32m   1220\u001b[0m             \u001b[0;32mexcept\u001b[0m \u001b[0mException\u001b[0m\u001b[0;34m:\u001b[0m\u001b[0;34m\u001b[0m\u001b[0;34m\u001b[0m\u001b[0m\n\u001b[1;32m   1221\u001b[0m                 \u001b[0mself\u001b[0m\u001b[0;34m.\u001b[0m\u001b[0mlog\u001b[0m\u001b[0;34m.\u001b[0m\u001b[0mwarning\u001b[0m\u001b[0;34m(\u001b[0m\u001b[0;34m\"Invalid Message:\"\u001b[0m\u001b[0;34m,\u001b[0m \u001b[0mexc_info\u001b[0m\u001b[0;34m=\u001b[0m\u001b[0;32mTrue\u001b[0m\u001b[0;34m)\u001b[0m\u001b[0;34m\u001b[0m\u001b[0;34m\u001b[0m\u001b[0m\n",
            "\u001b[0;31mKeyboardInterrupt\u001b[0m: Interrupted by user"
          ]
        }
      ]
    },
    {
      "cell_type": "code",
      "source": [
        "num = int (input (\"Please give me an integer (negative integer to quit):\"))\n",
        "\n",
        "while num >= 0:\n",
        "    if num <= 9:\n",
        "        print (\"Multiplicative and Additive Persistence:\"),0,\"additive and digital root:\",num\n",
        "    else:\n",
        "        addCnt = 0\n",
        "        prodCnt = 0\n",
        "\n",
        "        print (\"\\nMultiplicative loop\")\n",
        "        mRoot = num\n",
        "        while mRoot > 9:\n",
        "            theProd = 1\n",
        "            calcNumber = mRoot\n",
        "            while calcNumber > 9:\n",
        "                digit = calcNumber%10\n",
        "                calcNumber = calcNumber/10\n",
        "                theProd *= digit\n",
        "            theProd *= calcNumber\n",
        "            mRoot = theProd\n",
        "            prodCnt +=1\n",
        "            print (\"product:\",theProd)\n",
        "\n",
        "        print (\"\\nAdditive loop\")\n",
        "        aRoot = num\n",
        "        while aRoot > 9:\n",
        "            theSum = 0\n",
        "            calcNumber = aRoot\n",
        "            while calcNumber > 9:\n",
        "                digit = calcNumber%10\n",
        "                calcNumber = calcNumber/10\n",
        "                theSum += digit\n",
        "            theSum += calcNumber\n",
        "            aRoot = theSum\n",
        "            addCnt +=1\n",
        "            print (\"sum:\",theSum)\n",
        "        print (\"\\nFor the integer:\",num)\n",
        "        print (\"\\t Additivie Persistence: \",addCnt,\", Additive Root:\", aRoot)\n",
        "        print (\"\\t Multiplicative Persistence: \",prodCnt,\", Multiplicative Root:\", mRoot)\n",
        "        print (\"\")\n",
        "    num = int (input(\"Please give me an integer (negative integer to quit):\"))\n",
        "\n",
        "print (\"Thanks for playing\")"
      ],
      "metadata": {
        "colab": {
          "base_uri": "https://localhost:8080/",
          "height": 634
        },
        "id": "3jMDsJT2J57d",
        "outputId": "949aef8c-fa11-4257-f3bb-99093a9b0c2a"
      },
      "execution_count": null,
      "outputs": [
        {
          "output_type": "stream",
          "name": "stdout",
          "text": [
            "Please give me an integer (negative integer to quit):39\n",
            "\n",
            "Multiplicative loop\n",
            "product: 35.1\n",
            "product: 17.901000000000007\n",
            "product: 14.143580100000017\n",
            "product: 5.860505704511633\n",
            "\n",
            "Additive loop\n",
            "sum: 12.9\n",
            "sum: 4.19\n",
            "\n",
            "For the integer: 39\n",
            "\t Additivie Persistence:  2 , Additive Root: 4.19\n",
            "\t Multiplicative Persistence:  4 , Multiplicative Root: 5.860505704511633\n",
            "\n"
          ]
        },
        {
          "output_type": "error",
          "ename": "KeyboardInterrupt",
          "evalue": "Interrupted by user",
          "traceback": [
            "\u001b[0;31m---------------------------------------------------------------------------\u001b[0m",
            "\u001b[0;31mKeyboardInterrupt\u001b[0m                         Traceback (most recent call last)",
            "\u001b[0;32m<ipython-input-45-a65ad51fd3aa>\u001b[0m in \u001b[0;36m<cell line: 0>\u001b[0;34m()\u001b[0m\n\u001b[1;32m     39\u001b[0m         \u001b[0mprint\u001b[0m \u001b[0;34m(\u001b[0m\u001b[0;34m\"\\t Multiplicative Persistence: \"\u001b[0m\u001b[0;34m,\u001b[0m\u001b[0mprodCnt\u001b[0m\u001b[0;34m,\u001b[0m\u001b[0;34m\", Multiplicative Root:\"\u001b[0m\u001b[0;34m,\u001b[0m \u001b[0mmRoot\u001b[0m\u001b[0;34m)\u001b[0m\u001b[0;34m\u001b[0m\u001b[0;34m\u001b[0m\u001b[0m\n\u001b[1;32m     40\u001b[0m         \u001b[0mprint\u001b[0m \u001b[0;34m(\u001b[0m\u001b[0;34m\"\"\u001b[0m\u001b[0;34m)\u001b[0m\u001b[0;34m\u001b[0m\u001b[0;34m\u001b[0m\u001b[0m\n\u001b[0;32m---> 41\u001b[0;31m     \u001b[0mnum\u001b[0m \u001b[0;34m=\u001b[0m \u001b[0mint\u001b[0m \u001b[0;34m(\u001b[0m\u001b[0minput\u001b[0m\u001b[0;34m(\u001b[0m\u001b[0;34m\"Please give me an integer (negative integer to quit):\"\u001b[0m\u001b[0;34m)\u001b[0m\u001b[0;34m)\u001b[0m\u001b[0;34m\u001b[0m\u001b[0;34m\u001b[0m\u001b[0m\n\u001b[0m\u001b[1;32m     42\u001b[0m \u001b[0;34m\u001b[0m\u001b[0m\n\u001b[1;32m     43\u001b[0m \u001b[0mprint\u001b[0m \u001b[0;34m(\u001b[0m\u001b[0;34m\"Thanks for playing\"\u001b[0m\u001b[0;34m)\u001b[0m\u001b[0;34m\u001b[0m\u001b[0;34m\u001b[0m\u001b[0m\n",
            "\u001b[0;32m/usr/local/lib/python3.11/dist-packages/ipykernel/kernelbase.py\u001b[0m in \u001b[0;36mraw_input\u001b[0;34m(self, prompt)\u001b[0m\n\u001b[1;32m   1175\u001b[0m                 \u001b[0;34m\"raw_input was called, but this frontend does not support input requests.\"\u001b[0m\u001b[0;34m\u001b[0m\u001b[0;34m\u001b[0m\u001b[0m\n\u001b[1;32m   1176\u001b[0m             )\n\u001b[0;32m-> 1177\u001b[0;31m         return self._input_request(\n\u001b[0m\u001b[1;32m   1178\u001b[0m             \u001b[0mstr\u001b[0m\u001b[0;34m(\u001b[0m\u001b[0mprompt\u001b[0m\u001b[0;34m)\u001b[0m\u001b[0;34m,\u001b[0m\u001b[0;34m\u001b[0m\u001b[0;34m\u001b[0m\u001b[0m\n\u001b[1;32m   1179\u001b[0m             \u001b[0mself\u001b[0m\u001b[0;34m.\u001b[0m\u001b[0m_parent_ident\u001b[0m\u001b[0;34m[\u001b[0m\u001b[0;34m\"shell\"\u001b[0m\u001b[0;34m]\u001b[0m\u001b[0;34m,\u001b[0m\u001b[0;34m\u001b[0m\u001b[0;34m\u001b[0m\u001b[0m\n",
            "\u001b[0;32m/usr/local/lib/python3.11/dist-packages/ipykernel/kernelbase.py\u001b[0m in \u001b[0;36m_input_request\u001b[0;34m(self, prompt, ident, parent, password)\u001b[0m\n\u001b[1;32m   1217\u001b[0m             \u001b[0;32mexcept\u001b[0m \u001b[0mKeyboardInterrupt\u001b[0m\u001b[0;34m:\u001b[0m\u001b[0;34m\u001b[0m\u001b[0;34m\u001b[0m\u001b[0m\n\u001b[1;32m   1218\u001b[0m                 \u001b[0;31m# re-raise KeyboardInterrupt, to truncate traceback\u001b[0m\u001b[0;34m\u001b[0m\u001b[0;34m\u001b[0m\u001b[0m\n\u001b[0;32m-> 1219\u001b[0;31m                 \u001b[0;32mraise\u001b[0m \u001b[0mKeyboardInterrupt\u001b[0m\u001b[0;34m(\u001b[0m\u001b[0;34m\"Interrupted by user\"\u001b[0m\u001b[0;34m)\u001b[0m \u001b[0;32mfrom\u001b[0m \u001b[0;32mNone\u001b[0m\u001b[0;34m\u001b[0m\u001b[0;34m\u001b[0m\u001b[0m\n\u001b[0m\u001b[1;32m   1220\u001b[0m             \u001b[0;32mexcept\u001b[0m \u001b[0mException\u001b[0m\u001b[0;34m:\u001b[0m\u001b[0;34m\u001b[0m\u001b[0;34m\u001b[0m\u001b[0m\n\u001b[1;32m   1221\u001b[0m                 \u001b[0mself\u001b[0m\u001b[0;34m.\u001b[0m\u001b[0mlog\u001b[0m\u001b[0;34m.\u001b[0m\u001b[0mwarning\u001b[0m\u001b[0;34m(\u001b[0m\u001b[0;34m\"Invalid Message:\"\u001b[0m\u001b[0;34m,\u001b[0m \u001b[0mexc_info\u001b[0m\u001b[0;34m=\u001b[0m\u001b[0;32mTrue\u001b[0m\u001b[0;34m)\u001b[0m\u001b[0;34m\u001b[0m\u001b[0;34m\u001b[0m\u001b[0m\n",
            "\u001b[0;31mKeyboardInterrupt\u001b[0m: Interrupted by user"
          ]
        }
      ]
    },
    {
      "cell_type": "code",
      "source": [
        "# every square num is the sum of two triagonal nums\n",
        "# This is easy. The sqrt tells you which triagonal numbers you need\n",
        "# sqrt of 36 is 6. You need the 6th and 5th triagonal numbers\n",
        "# triag(n) = ((n*n)+n)/2\n",
        "# wfp, 9/4\n",
        "\n",
        "import math\n",
        "num = int(input(\"Num:\"))\n",
        "\n",
        "sqrt = math.sqrt(num)\n",
        "\n",
        "if sqrt != int(sqrt):\n",
        "    print (num,\" is not a square number\")\n",
        "else:\n",
        "    temp = sqrt\n",
        "    trig1 = (temp*temp+temp)/2\n",
        "    temp = temp - 1\n",
        "    trig2 = (temp*temp+temp)/2\n",
        "    print (num,\"is a square number with a root of\",int(sqrt))\n",
        "    print (\"It is the sum of the triagonal numbers\",int(trig1),\"and\",int(trig2))"
      ],
      "metadata": {
        "colab": {
          "base_uri": "https://localhost:8080/"
        },
        "id": "qK_i66JDKYae",
        "outputId": "5dc1ea5f-af2f-47c0-9aab-bf1465944c17"
      },
      "execution_count": null,
      "outputs": [
        {
          "output_type": "stream",
          "name": "stdout",
          "text": [
            "Num:225\n",
            "225 is a square number with a root of 15\n",
            "It is the sum of the triagonal numbers 120 and 105\n"
          ]
        }
      ]
    },
    {
      "cell_type": "code",
      "source": [
        "import turtle\n",
        "import time\n",
        "import random\n",
        "\n",
        "turtle.color(1,0,0)\n",
        "\n",
        "print(\"Look for the Python Turtle Graphics window\")\n",
        "print(\"Position it and the Python Shell window side by side.\")\n",
        "input(\"Then press `Enter' to continue ...\")\n",
        "\n",
        "\n",
        "turtle.down()\n",
        "\n",
        "turtle.forward(100)\n",
        "\n",
        "turtle.right(120)\n",
        "\n",
        "turtle.color(0,1,0)\n",
        "\n",
        "turtle.forward(100)\n",
        "\n",
        "turtle.right(120)\n",
        "\n",
        "turtle.color(0,0,1)\n",
        "\n",
        "turtle.forward(100)\n",
        "\n",
        "turtle.right(120)\n",
        "\n",
        "\n",
        "turtle.up()\n",
        "turtle.goto(0, 50)\n",
        "\n",
        "turtle.color(random.random(),random.random(), random.random())\n",
        "# lower the pen\n",
        "turtle.down()\n",
        "\n",
        "turtle.begin_fill()\n",
        "turtle.forward(100)\n",
        "turtle.right(-120)\n",
        "turtle.forward(100)\n",
        "turtle.right(-120)\n",
        "turtle.forward(100)\n",
        "turtle.end_fill()\n",
        "\n",
        "\n",
        "turtle.hideturtle()\n",
        "\n",
        "# let's pause for 5 seconds\n",
        "time.sleep(5)\n",
        "\n",
        "turtle.bye()"
      ],
      "metadata": {
        "colab": {
          "base_uri": "https://localhost:8080/",
          "height": 356
        },
        "id": "ICQr1YcmLBSU",
        "outputId": "830a25f8-8b7a-4eb9-a8e7-8a1e81071a00"
      },
      "execution_count": null,
      "outputs": [
        {
          "output_type": "error",
          "ename": "TclError",
          "evalue": "no display name and no $DISPLAY environment variable",
          "traceback": [
            "\u001b[0;31m---------------------------------------------------------------------------\u001b[0m",
            "\u001b[0;31mTclError\u001b[0m                                  Traceback (most recent call last)",
            "\u001b[0;32m<ipython-input-49-abf7ba91f3f1>\u001b[0m in \u001b[0;36m<cell line: 0>\u001b[0;34m()\u001b[0m\n\u001b[1;32m     53\u001b[0m \u001b[0;34m\u001b[0m\u001b[0m\n\u001b[1;32m     54\u001b[0m \u001b[0;31m# let's start up a Turtle Graphics window with a red turtle (pen)\u001b[0m\u001b[0;34m\u001b[0m\u001b[0;34m\u001b[0m\u001b[0m\n\u001b[0;32m---> 55\u001b[0;31m \u001b[0mturtle\u001b[0m\u001b[0;34m.\u001b[0m\u001b[0mcolor\u001b[0m\u001b[0;34m(\u001b[0m\u001b[0;36m1\u001b[0m\u001b[0;34m,\u001b[0m\u001b[0;36m0\u001b[0m\u001b[0;34m,\u001b[0m\u001b[0;36m0\u001b[0m\u001b[0;34m)\u001b[0m\u001b[0;34m\u001b[0m\u001b[0;34m\u001b[0m\u001b[0m\n\u001b[0m\u001b[1;32m     56\u001b[0m \u001b[0;34m\u001b[0m\u001b[0m\n\u001b[1;32m     57\u001b[0m \u001b[0;31m# prompt before starting to draw\u001b[0m\u001b[0;34m\u001b[0m\u001b[0;34m\u001b[0m\u001b[0m\n",
            "\u001b[0;32m/usr/lib/python3.11/turtle.py\u001b[0m in \u001b[0;36mcolor\u001b[0;34m(*args)\u001b[0m\n",
            "\u001b[0;32m/usr/lib/python3.11/turtle.py\u001b[0m in \u001b[0;36m__init__\u001b[0;34m(self, shape, undobuffersize, visible)\u001b[0m\n\u001b[1;32m   3828\u001b[0m                  visible=_CFG[\"visible\"]):\n\u001b[1;32m   3829\u001b[0m         \u001b[0;32mif\u001b[0m \u001b[0mTurtle\u001b[0m\u001b[0;34m.\u001b[0m\u001b[0m_screen\u001b[0m \u001b[0;32mis\u001b[0m \u001b[0;32mNone\u001b[0m\u001b[0;34m:\u001b[0m\u001b[0;34m\u001b[0m\u001b[0;34m\u001b[0m\u001b[0m\n\u001b[0;32m-> 3830\u001b[0;31m             \u001b[0mTurtle\u001b[0m\u001b[0;34m.\u001b[0m\u001b[0m_screen\u001b[0m \u001b[0;34m=\u001b[0m \u001b[0mScreen\u001b[0m\u001b[0;34m(\u001b[0m\u001b[0;34m)\u001b[0m\u001b[0;34m\u001b[0m\u001b[0;34m\u001b[0m\u001b[0m\n\u001b[0m\u001b[1;32m   3831\u001b[0m         RawTurtle.__init__(self, Turtle._screen,\n\u001b[1;32m   3832\u001b[0m                            \u001b[0mshape\u001b[0m\u001b[0;34m=\u001b[0m\u001b[0mshape\u001b[0m\u001b[0;34m,\u001b[0m\u001b[0;34m\u001b[0m\u001b[0;34m\u001b[0m\u001b[0m\n",
            "\u001b[0;32m/usr/lib/python3.11/turtle.py\u001b[0m in \u001b[0;36mScreen\u001b[0;34m()\u001b[0m\n\u001b[1;32m   3678\u001b[0m     else return the existing one.\"\"\"\n\u001b[1;32m   3679\u001b[0m     \u001b[0;32mif\u001b[0m \u001b[0mTurtle\u001b[0m\u001b[0;34m.\u001b[0m\u001b[0m_screen\u001b[0m \u001b[0;32mis\u001b[0m \u001b[0;32mNone\u001b[0m\u001b[0;34m:\u001b[0m\u001b[0;34m\u001b[0m\u001b[0;34m\u001b[0m\u001b[0m\n\u001b[0;32m-> 3680\u001b[0;31m         \u001b[0mTurtle\u001b[0m\u001b[0;34m.\u001b[0m\u001b[0m_screen\u001b[0m \u001b[0;34m=\u001b[0m \u001b[0m_Screen\u001b[0m\u001b[0;34m(\u001b[0m\u001b[0;34m)\u001b[0m\u001b[0;34m\u001b[0m\u001b[0;34m\u001b[0m\u001b[0m\n\u001b[0m\u001b[1;32m   3681\u001b[0m     \u001b[0;32mreturn\u001b[0m \u001b[0mTurtle\u001b[0m\u001b[0;34m.\u001b[0m\u001b[0m_screen\u001b[0m\u001b[0;34m\u001b[0m\u001b[0;34m\u001b[0m\u001b[0m\n\u001b[1;32m   3682\u001b[0m \u001b[0;34m\u001b[0m\u001b[0m\n",
            "\u001b[0;32m/usr/lib/python3.11/turtle.py\u001b[0m in \u001b[0;36m__init__\u001b[0;34m(self)\u001b[0m\n\u001b[1;32m   3694\u001b[0m         \u001b[0;31m# preserved (perhaps by passing it as an optional parameter)\u001b[0m\u001b[0;34m\u001b[0m\u001b[0;34m\u001b[0m\u001b[0m\n\u001b[1;32m   3695\u001b[0m         \u001b[0;32mif\u001b[0m \u001b[0m_Screen\u001b[0m\u001b[0;34m.\u001b[0m\u001b[0m_root\u001b[0m \u001b[0;32mis\u001b[0m \u001b[0;32mNone\u001b[0m\u001b[0;34m:\u001b[0m\u001b[0;34m\u001b[0m\u001b[0;34m\u001b[0m\u001b[0m\n\u001b[0;32m-> 3696\u001b[0;31m             \u001b[0m_Screen\u001b[0m\u001b[0;34m.\u001b[0m\u001b[0m_root\u001b[0m \u001b[0;34m=\u001b[0m \u001b[0mself\u001b[0m\u001b[0;34m.\u001b[0m\u001b[0m_root\u001b[0m \u001b[0;34m=\u001b[0m \u001b[0m_Root\u001b[0m\u001b[0;34m(\u001b[0m\u001b[0;34m)\u001b[0m\u001b[0;34m\u001b[0m\u001b[0;34m\u001b[0m\u001b[0m\n\u001b[0m\u001b[1;32m   3697\u001b[0m             \u001b[0mself\u001b[0m\u001b[0;34m.\u001b[0m\u001b[0m_root\u001b[0m\u001b[0;34m.\u001b[0m\u001b[0mtitle\u001b[0m\u001b[0;34m(\u001b[0m\u001b[0m_Screen\u001b[0m\u001b[0;34m.\u001b[0m\u001b[0m_title\u001b[0m\u001b[0;34m)\u001b[0m\u001b[0;34m\u001b[0m\u001b[0;34m\u001b[0m\u001b[0m\n\u001b[1;32m   3698\u001b[0m             \u001b[0mself\u001b[0m\u001b[0;34m.\u001b[0m\u001b[0m_root\u001b[0m\u001b[0;34m.\u001b[0m\u001b[0mondestroy\u001b[0m\u001b[0;34m(\u001b[0m\u001b[0mself\u001b[0m\u001b[0;34m.\u001b[0m\u001b[0m_destroy\u001b[0m\u001b[0;34m)\u001b[0m\u001b[0;34m\u001b[0m\u001b[0;34m\u001b[0m\u001b[0m\n",
            "\u001b[0;32m/usr/lib/python3.11/turtle.py\u001b[0m in \u001b[0;36m__init__\u001b[0;34m(self)\u001b[0m\n\u001b[1;32m    434\u001b[0m     \u001b[0;34m\"\"\"Root class for Screen based on Tkinter.\"\"\"\u001b[0m\u001b[0;34m\u001b[0m\u001b[0;34m\u001b[0m\u001b[0m\n\u001b[1;32m    435\u001b[0m     \u001b[0;32mdef\u001b[0m \u001b[0m__init__\u001b[0m\u001b[0;34m(\u001b[0m\u001b[0mself\u001b[0m\u001b[0;34m)\u001b[0m\u001b[0;34m:\u001b[0m\u001b[0;34m\u001b[0m\u001b[0;34m\u001b[0m\u001b[0m\n\u001b[0;32m--> 436\u001b[0;31m         \u001b[0mTK\u001b[0m\u001b[0;34m.\u001b[0m\u001b[0mTk\u001b[0m\u001b[0;34m.\u001b[0m\u001b[0m__init__\u001b[0m\u001b[0;34m(\u001b[0m\u001b[0mself\u001b[0m\u001b[0;34m)\u001b[0m\u001b[0;34m\u001b[0m\u001b[0;34m\u001b[0m\u001b[0m\n\u001b[0m\u001b[1;32m    437\u001b[0m \u001b[0;34m\u001b[0m\u001b[0m\n\u001b[1;32m    438\u001b[0m     \u001b[0;32mdef\u001b[0m \u001b[0msetupcanvas\u001b[0m\u001b[0;34m(\u001b[0m\u001b[0mself\u001b[0m\u001b[0;34m,\u001b[0m \u001b[0mwidth\u001b[0m\u001b[0;34m,\u001b[0m \u001b[0mheight\u001b[0m\u001b[0;34m,\u001b[0m \u001b[0mcwidth\u001b[0m\u001b[0;34m,\u001b[0m \u001b[0mcheight\u001b[0m\u001b[0;34m)\u001b[0m\u001b[0;34m:\u001b[0m\u001b[0;34m\u001b[0m\u001b[0;34m\u001b[0m\u001b[0m\n",
            "\u001b[0;32m/usr/lib/python3.11/tkinter/__init__.py\u001b[0m in \u001b[0;36m__init__\u001b[0;34m(self, screenName, baseName, className, useTk, sync, use)\u001b[0m\n\u001b[1;32m   2324\u001b[0m                 \u001b[0mbaseName\u001b[0m \u001b[0;34m=\u001b[0m \u001b[0mbaseName\u001b[0m \u001b[0;34m+\u001b[0m \u001b[0mext\u001b[0m\u001b[0;34m\u001b[0m\u001b[0;34m\u001b[0m\u001b[0m\n\u001b[1;32m   2325\u001b[0m         \u001b[0minteractive\u001b[0m \u001b[0;34m=\u001b[0m \u001b[0;32mFalse\u001b[0m\u001b[0;34m\u001b[0m\u001b[0;34m\u001b[0m\u001b[0m\n\u001b[0;32m-> 2326\u001b[0;31m         \u001b[0mself\u001b[0m\u001b[0;34m.\u001b[0m\u001b[0mtk\u001b[0m \u001b[0;34m=\u001b[0m \u001b[0m_tkinter\u001b[0m\u001b[0;34m.\u001b[0m\u001b[0mcreate\u001b[0m\u001b[0;34m(\u001b[0m\u001b[0mscreenName\u001b[0m\u001b[0;34m,\u001b[0m \u001b[0mbaseName\u001b[0m\u001b[0;34m,\u001b[0m \u001b[0mclassName\u001b[0m\u001b[0;34m,\u001b[0m \u001b[0minteractive\u001b[0m\u001b[0;34m,\u001b[0m \u001b[0mwantobjects\u001b[0m\u001b[0;34m,\u001b[0m \u001b[0museTk\u001b[0m\u001b[0;34m,\u001b[0m \u001b[0msync\u001b[0m\u001b[0;34m,\u001b[0m \u001b[0muse\u001b[0m\u001b[0;34m)\u001b[0m\u001b[0;34m\u001b[0m\u001b[0;34m\u001b[0m\u001b[0m\n\u001b[0m\u001b[1;32m   2327\u001b[0m         \u001b[0;32mif\u001b[0m \u001b[0museTk\u001b[0m\u001b[0;34m:\u001b[0m\u001b[0;34m\u001b[0m\u001b[0;34m\u001b[0m\u001b[0m\n\u001b[1;32m   2328\u001b[0m             \u001b[0mself\u001b[0m\u001b[0;34m.\u001b[0m\u001b[0m_loadtk\u001b[0m\u001b[0;34m(\u001b[0m\u001b[0;34m)\u001b[0m\u001b[0;34m\u001b[0m\u001b[0;34m\u001b[0m\u001b[0m\n",
            "\u001b[0;31mTclError\u001b[0m: no display name and no $DISPLAY environment variable"
          ]
        }
      ]
    },
    {
      "cell_type": "code",
      "source": [
        "# Caesar Cipher Shift-10 Encryption Script\n",
        "\n",
        "# Create the shifted alphabet (a->k, b->l, ..., z->j)\n",
        "letters = [chr((c + 10) % 26 + ord('a')) for c in range(26)]\n",
        "\n",
        "# Read the source file\n",
        "try:\n",
        "    with open(\"source\", \"r\") as file:\n",
        "        words = file.read()\n",
        "except FileNotFoundError:\n",
        "    print(\"Error: 'source' file not found.\")\n",
        "    exit()\n",
        "\n",
        "# Encrypt the message\n",
        "encrypted = \"\"\n",
        "for c in words:\n",
        "    c = c.lower()\n",
        "    if c == ' ':\n",
        "        encrypted += c\n",
        "    elif 'a' <= c <= 'z':\n",
        "        encrypted += letters[ord(c) - ord('a')]\n",
        "    # Ignore all other characters\n",
        "\n",
        "# Write to output file\n",
        "with open(\"sourceEncrypt\", \"w\") as f:\n",
        "    f.write(encrypted)\n",
        "\n",
        "print(\"Encryption complete. Output written to 'sourceEncrypt'.\")\n",
        "\n"
      ],
      "metadata": {
        "colab": {
          "base_uri": "https://localhost:8080/",
          "height": 228
        },
        "id": "RGarM7pPILvn",
        "outputId": "a8875d1a-afcc-48b4-f1ab-6c68778e0f80"
      },
      "execution_count": null,
      "outputs": [
        {
          "output_type": "stream",
          "name": "stdout",
          "text": [
            "Error: 'source' file not found.\n"
          ]
        },
        {
          "output_type": "error",
          "ename": "NameError",
          "evalue": "name 'words' is not defined",
          "traceback": [
            "\u001b[0;31m---------------------------------------------------------------------------\u001b[0m",
            "\u001b[0;31mNameError\u001b[0m                                 Traceback (most recent call last)",
            "\u001b[0;32m<ipython-input-1-8bd102b82fe5>\u001b[0m in \u001b[0;36m<cell line: 0>\u001b[0;34m()\u001b[0m\n\u001b[1;32m     14\u001b[0m \u001b[0;31m# Encrypt the message\u001b[0m\u001b[0;34m\u001b[0m\u001b[0;34m\u001b[0m\u001b[0m\n\u001b[1;32m     15\u001b[0m \u001b[0mencrypted\u001b[0m \u001b[0;34m=\u001b[0m \u001b[0;34m\"\"\u001b[0m\u001b[0;34m\u001b[0m\u001b[0;34m\u001b[0m\u001b[0m\n\u001b[0;32m---> 16\u001b[0;31m \u001b[0;32mfor\u001b[0m \u001b[0mc\u001b[0m \u001b[0;32min\u001b[0m \u001b[0mwords\u001b[0m\u001b[0;34m:\u001b[0m\u001b[0;34m\u001b[0m\u001b[0;34m\u001b[0m\u001b[0m\n\u001b[0m\u001b[1;32m     17\u001b[0m     \u001b[0mc\u001b[0m \u001b[0;34m=\u001b[0m \u001b[0mc\u001b[0m\u001b[0;34m.\u001b[0m\u001b[0mlower\u001b[0m\u001b[0;34m(\u001b[0m\u001b[0;34m)\u001b[0m\u001b[0;34m\u001b[0m\u001b[0;34m\u001b[0m\u001b[0m\n\u001b[1;32m     18\u001b[0m     \u001b[0;32mif\u001b[0m \u001b[0mc\u001b[0m \u001b[0;34m==\u001b[0m \u001b[0;34m' '\u001b[0m\u001b[0;34m:\u001b[0m\u001b[0;34m\u001b[0m\u001b[0;34m\u001b[0m\u001b[0m\n",
            "\u001b[0;31mNameError\u001b[0m: name 'words' is not defined"
          ]
        }
      ]
    },
    {
      "cell_type": "code",
      "source": [
        "\"\"\"\n",
        "File of function stubs for Project 07\n",
        "\n",
        "@author: enbody\n",
        "\"\"\"\n",
        "\n",
        "import sys\n",
        "\n",
        "# Use this input override only for testing with redirected files\n",
        "# def input(prompt=None):\n",
        "#     if prompt != None:\n",
        "#         print(prompt, end=\"\")\n",
        "#     aaa_str = sys.stdin.readline()\n",
        "#     aaa_str = aaa_str.rstrip(\"\\n\")\n",
        "#     print(aaa_str)\n",
        "#     return aaa_str\n",
        "\n",
        "def open_file():\n",
        "    '''Prompts for a file name and opens the file. Re-prompts if the file doesn't exist.'''\n",
        "    while True:\n",
        "        try:\n",
        "            filename = input(\"Enter filename: \")\n",
        "            fp = open(filename, \"r\")\n",
        "            return fp\n",
        "        except FileNotFoundError:\n",
        "            print(\"File not found. Try again.\")\n",
        "\n",
        "def read_file(fp):\n",
        "    '''Reads the number of users and friendship connections to create a network.'''\n",
        "    n = int(fp.readline())\n",
        "    network = [[] for _ in range(n)]\n",
        "\n",
        "    for line in fp:\n",
        "        user1, user2 = map(int, line.strip().split())\n",
        "        network[user1].append(user2)\n",
        "        network[user2].append(user1)\n",
        "\n",
        "    return network\n",
        "\n",
        "def num_in_common_between_lists(list1, list2):\n",
        "    '''Returns the number of elements that list1 and list2 have in common.'''\n",
        "    return len(set(list1) & set(list2))\n",
        "\n",
        "def init_matrix(n):\n",
        "    '''Create an nxn matrix, initialize with zeros, and return the matrix.'''\n",
        "    return [[0 for _ in range(n)] for _ in range(n)]\n",
        "\n",
        "def calc_similarity_scores(network):\n",
        "    '''Returns a similarity matrix with number of common friends between each pair.'''\n",
        "    n = len(network)\n",
        "    matrix = init_matrix(n)\n",
        "\n",
        "    for i in range(n):\n",
        "        for j in range(n):\n",
        "            if i != j:\n",
        "                matrix[i][j] = num_in_common_between_lists(network[i], network[j])\n",
        "\n",
        "    return matrix\n",
        "\n",
        "def recommend(user_id, network, similarity_matrix):\n",
        "    '''Returns the ID of the most similar user not already a friend and not the user.'''\n",
        "    max_common = -1\n",
        "    recommendation = None\n",
        "    for other_id in range(len(network)):\n",
        "        if other_id != user_id and other_id not in network[user_id]:\n",
        "            score = similarity_matrix[user_id][other_id]\n",
        "            if score > max_common:\n",
        "                max_common = score\n",
        "                recommendation = other_id\n",
        "    return recommendation\n",
        "\n",
        "def main():\n",
        "    fp = open_file()\n",
        "    network = read_file(fp)\n",
        "    similarity_matrix = calc_similarity_scores(network)\n",
        "\n",
        "    while True:\n",
        "        try:\n",
        "            user_id = int(input(\"Enter user ID for recommendation (-1 to quit): \"))\n",
        "            if user_id == -1:\n",
        "                break\n",
        "            if user_id < 0 or user_id >= len(network):\n",
        "                print(\"Invalid user ID.\")\n",
        "                continue\n",
        "\n",
        "            recommended = recommend(user_id, network, similarity_matrix)\n",
        "            if recommended is not None:\n",
        "                print(f\"We recommend user {recommended} as a friend for user {user_id}.\")\n",
        "            else:\n",
        "                print(\"No recommendation possible.\")\n",
        "        except ValueError:\n",
        "            print(\"Please enter a valid integer.\")\n",
        "\n",
        "if __name__ == \"__main__\":\n",
        "    main()\n"
      ],
      "metadata": {
        "colab": {
          "base_uri": "https://localhost:8080/",
          "height": 321
        },
        "id": "3gU5LBH_Kgwp",
        "outputId": "96625b51-85d2-4738-bf50-fb09f713258f"
      },
      "execution_count": null,
      "outputs": [
        {
          "output_type": "error",
          "ename": "KeyboardInterrupt",
          "evalue": "Interrupted by user",
          "traceback": [
            "\u001b[0;31m---------------------------------------------------------------------------\u001b[0m",
            "\u001b[0;31mKeyboardInterrupt\u001b[0m                         Traceback (most recent call last)",
            "\u001b[0;32m<ipython-input-1-0c035d2ffbed>\u001b[0m in \u001b[0;36m<cell line: 0>\u001b[0;34m()\u001b[0m\n\u001b[1;32m     93\u001b[0m \u001b[0;34m\u001b[0m\u001b[0m\n\u001b[1;32m     94\u001b[0m \u001b[0;32mif\u001b[0m \u001b[0m__name__\u001b[0m \u001b[0;34m==\u001b[0m \u001b[0;34m\"__main__\"\u001b[0m\u001b[0;34m:\u001b[0m\u001b[0;34m\u001b[0m\u001b[0;34m\u001b[0m\u001b[0m\n\u001b[0;32m---> 95\u001b[0;31m     \u001b[0mmain\u001b[0m\u001b[0;34m(\u001b[0m\u001b[0;34m)\u001b[0m\u001b[0;34m\u001b[0m\u001b[0;34m\u001b[0m\u001b[0m\n\u001b[0m",
            "\u001b[0;32m<ipython-input-1-0c035d2ffbed>\u001b[0m in \u001b[0;36mmain\u001b[0;34m()\u001b[0m\n\u001b[1;32m     71\u001b[0m \u001b[0;34m\u001b[0m\u001b[0m\n\u001b[1;32m     72\u001b[0m \u001b[0;32mdef\u001b[0m \u001b[0mmain\u001b[0m\u001b[0;34m(\u001b[0m\u001b[0;34m)\u001b[0m\u001b[0;34m:\u001b[0m\u001b[0;34m\u001b[0m\u001b[0;34m\u001b[0m\u001b[0m\n\u001b[0;32m---> 73\u001b[0;31m     \u001b[0mfp\u001b[0m \u001b[0;34m=\u001b[0m \u001b[0mopen_file\u001b[0m\u001b[0;34m(\u001b[0m\u001b[0;34m)\u001b[0m\u001b[0;34m\u001b[0m\u001b[0;34m\u001b[0m\u001b[0m\n\u001b[0m\u001b[1;32m     74\u001b[0m     \u001b[0mnetwork\u001b[0m \u001b[0;34m=\u001b[0m \u001b[0mread_file\u001b[0m\u001b[0;34m(\u001b[0m\u001b[0mfp\u001b[0m\u001b[0;34m)\u001b[0m\u001b[0;34m\u001b[0m\u001b[0;34m\u001b[0m\u001b[0m\n\u001b[1;32m     75\u001b[0m     \u001b[0msimilarity_matrix\u001b[0m \u001b[0;34m=\u001b[0m \u001b[0mcalc_similarity_scores\u001b[0m\u001b[0;34m(\u001b[0m\u001b[0mnetwork\u001b[0m\u001b[0;34m)\u001b[0m\u001b[0;34m\u001b[0m\u001b[0;34m\u001b[0m\u001b[0m\n",
            "\u001b[0;32m<ipython-input-1-0c035d2ffbed>\u001b[0m in \u001b[0;36mopen_file\u001b[0;34m()\u001b[0m\n\u001b[1;32m     20\u001b[0m     \u001b[0;32mwhile\u001b[0m \u001b[0;32mTrue\u001b[0m\u001b[0;34m:\u001b[0m\u001b[0;34m\u001b[0m\u001b[0;34m\u001b[0m\u001b[0m\n\u001b[1;32m     21\u001b[0m         \u001b[0;32mtry\u001b[0m\u001b[0;34m:\u001b[0m\u001b[0;34m\u001b[0m\u001b[0;34m\u001b[0m\u001b[0m\n\u001b[0;32m---> 22\u001b[0;31m             \u001b[0mfilename\u001b[0m \u001b[0;34m=\u001b[0m \u001b[0minput\u001b[0m\u001b[0;34m(\u001b[0m\u001b[0;34m\"Enter filename: \"\u001b[0m\u001b[0;34m)\u001b[0m\u001b[0;34m\u001b[0m\u001b[0;34m\u001b[0m\u001b[0m\n\u001b[0m\u001b[1;32m     23\u001b[0m             \u001b[0mfp\u001b[0m \u001b[0;34m=\u001b[0m \u001b[0mopen\u001b[0m\u001b[0;34m(\u001b[0m\u001b[0mfilename\u001b[0m\u001b[0;34m,\u001b[0m \u001b[0;34m\"r\"\u001b[0m\u001b[0;34m)\u001b[0m\u001b[0;34m\u001b[0m\u001b[0;34m\u001b[0m\u001b[0m\n\u001b[1;32m     24\u001b[0m             \u001b[0;32mreturn\u001b[0m \u001b[0mfp\u001b[0m\u001b[0;34m\u001b[0m\u001b[0;34m\u001b[0m\u001b[0m\n",
            "\u001b[0;32m/usr/local/lib/python3.11/dist-packages/ipykernel/kernelbase.py\u001b[0m in \u001b[0;36mraw_input\u001b[0;34m(self, prompt)\u001b[0m\n\u001b[1;32m   1175\u001b[0m                 \u001b[0;34m\"raw_input was called, but this frontend does not support input requests.\"\u001b[0m\u001b[0;34m\u001b[0m\u001b[0;34m\u001b[0m\u001b[0m\n\u001b[1;32m   1176\u001b[0m             )\n\u001b[0;32m-> 1177\u001b[0;31m         return self._input_request(\n\u001b[0m\u001b[1;32m   1178\u001b[0m             \u001b[0mstr\u001b[0m\u001b[0;34m(\u001b[0m\u001b[0mprompt\u001b[0m\u001b[0;34m)\u001b[0m\u001b[0;34m,\u001b[0m\u001b[0;34m\u001b[0m\u001b[0;34m\u001b[0m\u001b[0m\n\u001b[1;32m   1179\u001b[0m             \u001b[0mself\u001b[0m\u001b[0;34m.\u001b[0m\u001b[0m_parent_ident\u001b[0m\u001b[0;34m[\u001b[0m\u001b[0;34m\"shell\"\u001b[0m\u001b[0;34m]\u001b[0m\u001b[0;34m,\u001b[0m\u001b[0;34m\u001b[0m\u001b[0;34m\u001b[0m\u001b[0m\n",
            "\u001b[0;32m/usr/local/lib/python3.11/dist-packages/ipykernel/kernelbase.py\u001b[0m in \u001b[0;36m_input_request\u001b[0;34m(self, prompt, ident, parent, password)\u001b[0m\n\u001b[1;32m   1217\u001b[0m             \u001b[0;32mexcept\u001b[0m \u001b[0mKeyboardInterrupt\u001b[0m\u001b[0;34m:\u001b[0m\u001b[0;34m\u001b[0m\u001b[0;34m\u001b[0m\u001b[0m\n\u001b[1;32m   1218\u001b[0m                 \u001b[0;31m# re-raise KeyboardInterrupt, to truncate traceback\u001b[0m\u001b[0;34m\u001b[0m\u001b[0;34m\u001b[0m\u001b[0m\n\u001b[0;32m-> 1219\u001b[0;31m                 \u001b[0;32mraise\u001b[0m \u001b[0mKeyboardInterrupt\u001b[0m\u001b[0;34m(\u001b[0m\u001b[0;34m\"Interrupted by user\"\u001b[0m\u001b[0;34m)\u001b[0m \u001b[0;32mfrom\u001b[0m \u001b[0;32mNone\u001b[0m\u001b[0;34m\u001b[0m\u001b[0;34m\u001b[0m\u001b[0m\n\u001b[0m\u001b[1;32m   1220\u001b[0m             \u001b[0;32mexcept\u001b[0m \u001b[0mException\u001b[0m\u001b[0;34m:\u001b[0m\u001b[0;34m\u001b[0m\u001b[0;34m\u001b[0m\u001b[0m\n\u001b[1;32m   1221\u001b[0m                 \u001b[0mself\u001b[0m\u001b[0;34m.\u001b[0m\u001b[0mlog\u001b[0m\u001b[0;34m.\u001b[0m\u001b[0mwarning\u001b[0m\u001b[0;34m(\u001b[0m\u001b[0;34m\"Invalid Message:\"\u001b[0m\u001b[0;34m,\u001b[0m \u001b[0mexc_info\u001b[0m\u001b[0;34m=\u001b[0m\u001b[0;32mTrue\u001b[0m\u001b[0;34m)\u001b[0m\u001b[0;34m\u001b[0m\u001b[0;34m\u001b[0m\u001b[0m\n",
            "\u001b[0;31mKeyboardInterrupt\u001b[0m: Interrupted by user"
          ]
        }
      ]
    },
    {
      "cell_type": "code",
      "source": [
        "def load_books(filename):\n",
        "    '''Loads book data from file and returns a list of tuples (title, author, year).'''\n",
        "    books = []\n",
        "    try:\n",
        "        with open(filename, 'r') as f:\n",
        "            for line in f:\n",
        "                parts = line.strip().split(',')\n",
        "                if len(parts) == 3:\n",
        "                    title = parts[0].strip()\n",
        "                    author = parts[1].strip()\n",
        "                    year = parts[2].strip()\n",
        "                    books.append((title, author, year))\n",
        "    except FileNotFoundError:\n",
        "        print(\"Error: File not found.\")\n",
        "    return books\n",
        "\n",
        "def search_by_title(books):\n",
        "    keyword = input(\"Enter title keyword: \").strip().lower()\n",
        "    found = [book for book in books if keyword in book[0].lower()]\n",
        "    display_results(found)\n",
        "\n",
        "def search_by_author(books):\n",
        "    keyword = input(\"Enter author keyword: \").strip().lower()\n",
        "    found = [book for book in books if keyword in book[1].lower()]\n",
        "    display_results(found)\n",
        "\n",
        "def search_by_year(books):\n",
        "    year = input(\"Enter year: \").strip()\n",
        "    found = [book for book in books if book[2] == year]\n",
        "    display_results(found)\n",
        "\n",
        "def display_all_books(books):\n",
        "    display_results(books)\n",
        "\n",
        "def display_results(results):\n",
        "    if results:\n",
        "        for title, author, year in results:\n",
        "            print(f\"Title: {title}\\nAuthor: {author}\\nYear: {year}\\n{'-'*40}\")\n",
        "    else:\n",
        "        print(\"No books found.\\n\")\n",
        "\n",
        "def main():\n",
        "    filename = input(\"Enter book data filename: \")\n",
        "    books = load_books(filename)\n",
        "    if not books:\n",
        "        return\n",
        "\n",
        "    while True:\n",
        "        print(\"\\nMenu Options:\")\n",
        "        print(\"1. Search books by title keyword\")\n",
        "        print(\"2. Search books by author keyword\")\n",
        "        print(\"3. Search books by year\")\n",
        "        print(\"4. Display all books\")\n",
        "        print(\"Q. Quit\")\n",
        "\n",
        "        choice = input(\"Select an option: \").strip().lower()\n",
        "\n",
        "        if choice == '1':\n",
        "            search_by_title(books)\n",
        "        elif choice == '2':\n",
        "            search_by_author(books)\n",
        "        elif choice == '3':\n",
        "            search_by_year(books)\n",
        "        elif choice == '4':\n",
        "            display_all_books(books)\n",
        "        elif choice == 'q':\n",
        "            print(\"Exiting the program.\")\n",
        "            break\n",
        "        else:\n",
        "            print(\"Invalid option. Please try again.\")\n",
        "\n",
        "if __name__ == \"__main__\":\n",
        "    main()\n"
      ],
      "metadata": {
        "colab": {
          "base_uri": "https://localhost:8080/",
          "height": 321
        },
        "id": "Nm-yp2VYLb9Q",
        "outputId": "53e12342-f69a-4024-e04c-875a182037e0"
      },
      "execution_count": null,
      "outputs": [
        {
          "output_type": "error",
          "ename": "KeyboardInterrupt",
          "evalue": "Interrupted by user",
          "traceback": [
            "\u001b[0;31m---------------------------------------------------------------------------\u001b[0m",
            "\u001b[0;31mKeyboardInterrupt\u001b[0m                         Traceback (most recent call last)",
            "\u001b[0;32m<ipython-input-2-b6f46ed6542a>\u001b[0m in \u001b[0;36m<cell line: 0>\u001b[0;34m()\u001b[0m\n\u001b[1;32m     71\u001b[0m \u001b[0;34m\u001b[0m\u001b[0m\n\u001b[1;32m     72\u001b[0m \u001b[0;32mif\u001b[0m \u001b[0m__name__\u001b[0m \u001b[0;34m==\u001b[0m \u001b[0;34m\"__main__\"\u001b[0m\u001b[0;34m:\u001b[0m\u001b[0;34m\u001b[0m\u001b[0;34m\u001b[0m\u001b[0m\n\u001b[0;32m---> 73\u001b[0;31m     \u001b[0mmain\u001b[0m\u001b[0;34m(\u001b[0m\u001b[0;34m)\u001b[0m\u001b[0;34m\u001b[0m\u001b[0;34m\u001b[0m\u001b[0m\n\u001b[0m",
            "\u001b[0;32m<ipython-input-2-b6f46ed6542a>\u001b[0m in \u001b[0;36mmain\u001b[0;34m()\u001b[0m\n\u001b[1;32m     41\u001b[0m \u001b[0;34m\u001b[0m\u001b[0m\n\u001b[1;32m     42\u001b[0m \u001b[0;32mdef\u001b[0m \u001b[0mmain\u001b[0m\u001b[0;34m(\u001b[0m\u001b[0;34m)\u001b[0m\u001b[0;34m:\u001b[0m\u001b[0;34m\u001b[0m\u001b[0;34m\u001b[0m\u001b[0m\n\u001b[0;32m---> 43\u001b[0;31m     \u001b[0mfilename\u001b[0m \u001b[0;34m=\u001b[0m \u001b[0minput\u001b[0m\u001b[0;34m(\u001b[0m\u001b[0;34m\"Enter book data filename: \"\u001b[0m\u001b[0;34m)\u001b[0m\u001b[0;34m\u001b[0m\u001b[0;34m\u001b[0m\u001b[0m\n\u001b[0m\u001b[1;32m     44\u001b[0m     \u001b[0mbooks\u001b[0m \u001b[0;34m=\u001b[0m \u001b[0mload_books\u001b[0m\u001b[0;34m(\u001b[0m\u001b[0mfilename\u001b[0m\u001b[0;34m)\u001b[0m\u001b[0;34m\u001b[0m\u001b[0;34m\u001b[0m\u001b[0m\n\u001b[1;32m     45\u001b[0m     \u001b[0;32mif\u001b[0m \u001b[0;32mnot\u001b[0m \u001b[0mbooks\u001b[0m\u001b[0;34m:\u001b[0m\u001b[0;34m\u001b[0m\u001b[0;34m\u001b[0m\u001b[0m\n",
            "\u001b[0;32m/usr/local/lib/python3.11/dist-packages/ipykernel/kernelbase.py\u001b[0m in \u001b[0;36mraw_input\u001b[0;34m(self, prompt)\u001b[0m\n\u001b[1;32m   1175\u001b[0m                 \u001b[0;34m\"raw_input was called, but this frontend does not support input requests.\"\u001b[0m\u001b[0;34m\u001b[0m\u001b[0;34m\u001b[0m\u001b[0m\n\u001b[1;32m   1176\u001b[0m             )\n\u001b[0;32m-> 1177\u001b[0;31m         return self._input_request(\n\u001b[0m\u001b[1;32m   1178\u001b[0m             \u001b[0mstr\u001b[0m\u001b[0;34m(\u001b[0m\u001b[0mprompt\u001b[0m\u001b[0;34m)\u001b[0m\u001b[0;34m,\u001b[0m\u001b[0;34m\u001b[0m\u001b[0;34m\u001b[0m\u001b[0m\n\u001b[1;32m   1179\u001b[0m             \u001b[0mself\u001b[0m\u001b[0;34m.\u001b[0m\u001b[0m_parent_ident\u001b[0m\u001b[0;34m[\u001b[0m\u001b[0;34m\"shell\"\u001b[0m\u001b[0;34m]\u001b[0m\u001b[0;34m,\u001b[0m\u001b[0;34m\u001b[0m\u001b[0;34m\u001b[0m\u001b[0m\n",
            "\u001b[0;32m/usr/local/lib/python3.11/dist-packages/ipykernel/kernelbase.py\u001b[0m in \u001b[0;36m_input_request\u001b[0;34m(self, prompt, ident, parent, password)\u001b[0m\n\u001b[1;32m   1217\u001b[0m             \u001b[0;32mexcept\u001b[0m \u001b[0mKeyboardInterrupt\u001b[0m\u001b[0;34m:\u001b[0m\u001b[0;34m\u001b[0m\u001b[0;34m\u001b[0m\u001b[0m\n\u001b[1;32m   1218\u001b[0m                 \u001b[0;31m# re-raise KeyboardInterrupt, to truncate traceback\u001b[0m\u001b[0;34m\u001b[0m\u001b[0;34m\u001b[0m\u001b[0m\n\u001b[0;32m-> 1219\u001b[0;31m                 \u001b[0;32mraise\u001b[0m \u001b[0mKeyboardInterrupt\u001b[0m\u001b[0;34m(\u001b[0m\u001b[0;34m\"Interrupted by user\"\u001b[0m\u001b[0;34m)\u001b[0m \u001b[0;32mfrom\u001b[0m \u001b[0;32mNone\u001b[0m\u001b[0;34m\u001b[0m\u001b[0;34m\u001b[0m\u001b[0m\n\u001b[0m\u001b[1;32m   1220\u001b[0m             \u001b[0;32mexcept\u001b[0m \u001b[0mException\u001b[0m\u001b[0;34m:\u001b[0m\u001b[0;34m\u001b[0m\u001b[0;34m\u001b[0m\u001b[0m\n\u001b[1;32m   1221\u001b[0m                 \u001b[0mself\u001b[0m\u001b[0;34m.\u001b[0m\u001b[0mlog\u001b[0m\u001b[0;34m.\u001b[0m\u001b[0mwarning\u001b[0m\u001b[0;34m(\u001b[0m\u001b[0;34m\"Invalid Message:\"\u001b[0m\u001b[0;34m,\u001b[0m \u001b[0mexc_info\u001b[0m\u001b[0;34m=\u001b[0m\u001b[0;32mTrue\u001b[0m\u001b[0;34m)\u001b[0m\u001b[0;34m\u001b[0m\u001b[0;34m\u001b[0m\u001b[0m\n",
            "\u001b[0;31mKeyboardInterrupt\u001b[0m: Interrupted by user"
          ]
        }
      ]
    },
    {
      "cell_type": "code",
      "source": [],
      "metadata": {
        "id": "At8rqkI_So2p"
      },
      "execution_count": null,
      "outputs": []
    }
  ]
}